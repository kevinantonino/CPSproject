{
 "cells": [
  {
   "cell_type": "markdown",
   "metadata": {},
   "source": [
    "# Notebook version of Main python file that will be used to create visualization tool\n",
    "\n",
    "The final tool will likely be a more concise .py file,  but this notebook should be helpful for creating the tool and debugging"
   ]
  },
  {
   "cell_type": "markdown",
   "metadata": {},
   "source": [
    "## Initial Script"
   ]
  },
  {
   "cell_type": "code",
   "execution_count": 1,
   "metadata": {},
   "outputs": [
    {
     "data": {
      "text/html": [
       "\n",
       "    <div class=\"bk-root\">\n",
       "        <a href=\"https://bokeh.pydata.org\" target=\"_blank\" class=\"bk-logo bk-logo-small bk-logo-notebook\"></a>\n",
       "        <span id=\"1001\">Loading BokehJS ...</span>\n",
       "    </div>"
      ]
     },
     "metadata": {},
     "output_type": "display_data"
    },
    {
     "data": {
      "application/javascript": [
       "\n",
       "(function(root) {\n",
       "  function now() {\n",
       "    return new Date();\n",
       "  }\n",
       "\n",
       "  var force = true;\n",
       "\n",
       "  if (typeof root._bokeh_onload_callbacks === \"undefined\" || force === true) {\n",
       "    root._bokeh_onload_callbacks = [];\n",
       "    root._bokeh_is_loading = undefined;\n",
       "  }\n",
       "\n",
       "  var JS_MIME_TYPE = 'application/javascript';\n",
       "  var HTML_MIME_TYPE = 'text/html';\n",
       "  var EXEC_MIME_TYPE = 'application/vnd.bokehjs_exec.v0+json';\n",
       "  var CLASS_NAME = 'output_bokeh rendered_html';\n",
       "\n",
       "  /**\n",
       "   * Render data to the DOM node\n",
       "   */\n",
       "  function render(props, node) {\n",
       "    var script = document.createElement(\"script\");\n",
       "    node.appendChild(script);\n",
       "  }\n",
       "\n",
       "  /**\n",
       "   * Handle when an output is cleared or removed\n",
       "   */\n",
       "  function handleClearOutput(event, handle) {\n",
       "    var cell = handle.cell;\n",
       "\n",
       "    var id = cell.output_area._bokeh_element_id;\n",
       "    var server_id = cell.output_area._bokeh_server_id;\n",
       "    // Clean up Bokeh references\n",
       "    if (id != null && id in Bokeh.index) {\n",
       "      Bokeh.index[id].model.document.clear();\n",
       "      delete Bokeh.index[id];\n",
       "    }\n",
       "\n",
       "    if (server_id !== undefined) {\n",
       "      // Clean up Bokeh references\n",
       "      var cmd = \"from bokeh.io.state import curstate; print(curstate().uuid_to_server['\" + server_id + \"'].get_sessions()[0].document.roots[0]._id)\";\n",
       "      cell.notebook.kernel.execute(cmd, {\n",
       "        iopub: {\n",
       "          output: function(msg) {\n",
       "            var id = msg.content.text.trim();\n",
       "            if (id in Bokeh.index) {\n",
       "              Bokeh.index[id].model.document.clear();\n",
       "              delete Bokeh.index[id];\n",
       "            }\n",
       "          }\n",
       "        }\n",
       "      });\n",
       "      // Destroy server and session\n",
       "      var cmd = \"import bokeh.io.notebook as ion; ion.destroy_server('\" + server_id + \"')\";\n",
       "      cell.notebook.kernel.execute(cmd);\n",
       "    }\n",
       "  }\n",
       "\n",
       "  /**\n",
       "   * Handle when a new output is added\n",
       "   */\n",
       "  function handleAddOutput(event, handle) {\n",
       "    var output_area = handle.output_area;\n",
       "    var output = handle.output;\n",
       "\n",
       "    // limit handleAddOutput to display_data with EXEC_MIME_TYPE content only\n",
       "    if ((output.output_type != \"display_data\") || (!output.data.hasOwnProperty(EXEC_MIME_TYPE))) {\n",
       "      return\n",
       "    }\n",
       "\n",
       "    var toinsert = output_area.element.find(\".\" + CLASS_NAME.split(' ')[0]);\n",
       "\n",
       "    if (output.metadata[EXEC_MIME_TYPE][\"id\"] !== undefined) {\n",
       "      toinsert[toinsert.length - 1].firstChild.textContent = output.data[JS_MIME_TYPE];\n",
       "      // store reference to embed id on output_area\n",
       "      output_area._bokeh_element_id = output.metadata[EXEC_MIME_TYPE][\"id\"];\n",
       "    }\n",
       "    if (output.metadata[EXEC_MIME_TYPE][\"server_id\"] !== undefined) {\n",
       "      var bk_div = document.createElement(\"div\");\n",
       "      bk_div.innerHTML = output.data[HTML_MIME_TYPE];\n",
       "      var script_attrs = bk_div.children[0].attributes;\n",
       "      for (var i = 0; i < script_attrs.length; i++) {\n",
       "        toinsert[toinsert.length - 1].firstChild.setAttribute(script_attrs[i].name, script_attrs[i].value);\n",
       "      }\n",
       "      // store reference to server id on output_area\n",
       "      output_area._bokeh_server_id = output.metadata[EXEC_MIME_TYPE][\"server_id\"];\n",
       "    }\n",
       "  }\n",
       "\n",
       "  function register_renderer(events, OutputArea) {\n",
       "\n",
       "    function append_mime(data, metadata, element) {\n",
       "      // create a DOM node to render to\n",
       "      var toinsert = this.create_output_subarea(\n",
       "        metadata,\n",
       "        CLASS_NAME,\n",
       "        EXEC_MIME_TYPE\n",
       "      );\n",
       "      this.keyboard_manager.register_events(toinsert);\n",
       "      // Render to node\n",
       "      var props = {data: data, metadata: metadata[EXEC_MIME_TYPE]};\n",
       "      render(props, toinsert[toinsert.length - 1]);\n",
       "      element.append(toinsert);\n",
       "      return toinsert\n",
       "    }\n",
       "\n",
       "    /* Handle when an output is cleared or removed */\n",
       "    events.on('clear_output.CodeCell', handleClearOutput);\n",
       "    events.on('delete.Cell', handleClearOutput);\n",
       "\n",
       "    /* Handle when a new output is added */\n",
       "    events.on('output_added.OutputArea', handleAddOutput);\n",
       "\n",
       "    /**\n",
       "     * Register the mime type and append_mime function with output_area\n",
       "     */\n",
       "    OutputArea.prototype.register_mime_type(EXEC_MIME_TYPE, append_mime, {\n",
       "      /* Is output safe? */\n",
       "      safe: true,\n",
       "      /* Index of renderer in `output_area.display_order` */\n",
       "      index: 0\n",
       "    });\n",
       "  }\n",
       "\n",
       "  // register the mime type if in Jupyter Notebook environment and previously unregistered\n",
       "  if (root.Jupyter !== undefined) {\n",
       "    var events = require('base/js/events');\n",
       "    var OutputArea = require('notebook/js/outputarea').OutputArea;\n",
       "\n",
       "    if (OutputArea.prototype.mime_types().indexOf(EXEC_MIME_TYPE) == -1) {\n",
       "      register_renderer(events, OutputArea);\n",
       "    }\n",
       "  }\n",
       "\n",
       "  \n",
       "  if (typeof (root._bokeh_timeout) === \"undefined\" || force === true) {\n",
       "    root._bokeh_timeout = Date.now() + 5000;\n",
       "    root._bokeh_failed_load = false;\n",
       "  }\n",
       "\n",
       "  var NB_LOAD_WARNING = {'data': {'text/html':\n",
       "     \"<div style='background-color: #fdd'>\\n\"+\n",
       "     \"<p>\\n\"+\n",
       "     \"BokehJS does not appear to have successfully loaded. If loading BokehJS from CDN, this \\n\"+\n",
       "     \"may be due to a slow or bad network connection. Possible fixes:\\n\"+\n",
       "     \"</p>\\n\"+\n",
       "     \"<ul>\\n\"+\n",
       "     \"<li>re-rerun `output_notebook()` to attempt to load from CDN again, or</li>\\n\"+\n",
       "     \"<li>use INLINE resources instead, as so:</li>\\n\"+\n",
       "     \"</ul>\\n\"+\n",
       "     \"<code>\\n\"+\n",
       "     \"from bokeh.resources import INLINE\\n\"+\n",
       "     \"output_notebook(resources=INLINE)\\n\"+\n",
       "     \"</code>\\n\"+\n",
       "     \"</div>\"}};\n",
       "\n",
       "  function display_loaded() {\n",
       "    var el = document.getElementById(\"1001\");\n",
       "    if (el != null) {\n",
       "      el.textContent = \"BokehJS is loading...\";\n",
       "    }\n",
       "    if (root.Bokeh !== undefined) {\n",
       "      if (el != null) {\n",
       "        el.textContent = \"BokehJS \" + root.Bokeh.version + \" successfully loaded.\";\n",
       "      }\n",
       "    } else if (Date.now() < root._bokeh_timeout) {\n",
       "      setTimeout(display_loaded, 100)\n",
       "    }\n",
       "  }\n",
       "\n",
       "\n",
       "  function run_callbacks() {\n",
       "    try {\n",
       "      root._bokeh_onload_callbacks.forEach(function(callback) {\n",
       "        if (callback != null)\n",
       "          callback();\n",
       "      });\n",
       "    } finally {\n",
       "      delete root._bokeh_onload_callbacks\n",
       "    }\n",
       "    console.debug(\"Bokeh: all callbacks have finished\");\n",
       "  }\n",
       "\n",
       "  function load_libs(css_urls, js_urls, callback) {\n",
       "    if (css_urls == null) css_urls = [];\n",
       "    if (js_urls == null) js_urls = [];\n",
       "\n",
       "    root._bokeh_onload_callbacks.push(callback);\n",
       "    if (root._bokeh_is_loading > 0) {\n",
       "      console.debug(\"Bokeh: BokehJS is being loaded, scheduling callback at\", now());\n",
       "      return null;\n",
       "    }\n",
       "    if (js_urls == null || js_urls.length === 0) {\n",
       "      run_callbacks();\n",
       "      return null;\n",
       "    }\n",
       "    console.debug(\"Bokeh: BokehJS not loaded, scheduling load and callback at\", now());\n",
       "    root._bokeh_is_loading = css_urls.length + js_urls.length;\n",
       "\n",
       "    function on_load() {\n",
       "      root._bokeh_is_loading--;\n",
       "      if (root._bokeh_is_loading === 0) {\n",
       "        console.debug(\"Bokeh: all BokehJS libraries/stylesheets loaded\");\n",
       "        run_callbacks()\n",
       "      }\n",
       "    }\n",
       "\n",
       "    function on_error() {\n",
       "      console.error(\"failed to load \" + url);\n",
       "    }\n",
       "\n",
       "    for (var i = 0; i < css_urls.length; i++) {\n",
       "      var url = css_urls[i];\n",
       "      const element = document.createElement(\"link\");\n",
       "      element.onload = on_load;\n",
       "      element.onerror = on_error;\n",
       "      element.rel = \"stylesheet\";\n",
       "      element.type = \"text/css\";\n",
       "      element.href = url;\n",
       "      console.debug(\"Bokeh: injecting link tag for BokehJS stylesheet: \", url);\n",
       "      document.body.appendChild(element);\n",
       "    }\n",
       "\n",
       "    for (var i = 0; i < js_urls.length; i++) {\n",
       "      var url = js_urls[i];\n",
       "      var element = document.createElement('script');\n",
       "      element.onload = on_load;\n",
       "      element.onerror = on_error;\n",
       "      element.async = false;\n",
       "      element.src = url;\n",
       "      console.debug(\"Bokeh: injecting script tag for BokehJS library: \", url);\n",
       "      document.head.appendChild(element);\n",
       "    }\n",
       "  };var element = document.getElementById(\"1001\");\n",
       "  if (element == null) {\n",
       "    console.error(\"Bokeh: ERROR: autoload.js configured with elementid '1001' but no matching script tag was found. \")\n",
       "    return false;\n",
       "  }\n",
       "\n",
       "  function inject_raw_css(css) {\n",
       "    const element = document.createElement(\"style\");\n",
       "    element.appendChild(document.createTextNode(css));\n",
       "    document.body.appendChild(element);\n",
       "  }\n",
       "\n",
       "  var js_urls = [\"https://cdn.pydata.org/bokeh/release/bokeh-1.3.4.min.js\", \"https://cdn.pydata.org/bokeh/release/bokeh-widgets-1.3.4.min.js\", \"https://cdn.pydata.org/bokeh/release/bokeh-tables-1.3.4.min.js\", \"https://cdn.pydata.org/bokeh/release/bokeh-gl-1.3.4.min.js\"];\n",
       "  var css_urls = [];\n",
       "\n",
       "  var inline_js = [\n",
       "    function(Bokeh) {\n",
       "      Bokeh.set_log_level(\"info\");\n",
       "    },\n",
       "    \n",
       "    function(Bokeh) {\n",
       "      \n",
       "    },\n",
       "    function(Bokeh) {} // ensure no trailing comma for IE\n",
       "  ];\n",
       "\n",
       "  function run_inline_js() {\n",
       "    \n",
       "    if ((root.Bokeh !== undefined) || (force === true)) {\n",
       "      for (var i = 0; i < inline_js.length; i++) {\n",
       "        inline_js[i].call(root, root.Bokeh);\n",
       "      }if (force === true) {\n",
       "        display_loaded();\n",
       "      }} else if (Date.now() < root._bokeh_timeout) {\n",
       "      setTimeout(run_inline_js, 100);\n",
       "    } else if (!root._bokeh_failed_load) {\n",
       "      console.log(\"Bokeh: BokehJS failed to load within specified timeout.\");\n",
       "      root._bokeh_failed_load = true;\n",
       "    } else if (force !== true) {\n",
       "      var cell = $(document.getElementById(\"1001\")).parents('.cell').data().cell;\n",
       "      cell.output_area.append_execute_result(NB_LOAD_WARNING)\n",
       "    }\n",
       "\n",
       "  }\n",
       "\n",
       "  if (root._bokeh_is_loading === 0) {\n",
       "    console.debug(\"Bokeh: BokehJS loaded, going straight to plotting\");\n",
       "    run_inline_js();\n",
       "  } else {\n",
       "    load_libs(css_urls, js_urls, function() {\n",
       "      console.debug(\"Bokeh: BokehJS plotting callback run at\", now());\n",
       "      run_inline_js();\n",
       "    });\n",
       "  }\n",
       "}(window));"
      ],
      "application/vnd.bokehjs_load.v0+json": "\n(function(root) {\n  function now() {\n    return new Date();\n  }\n\n  var force = true;\n\n  if (typeof root._bokeh_onload_callbacks === \"undefined\" || force === true) {\n    root._bokeh_onload_callbacks = [];\n    root._bokeh_is_loading = undefined;\n  }\n\n  \n\n  \n  if (typeof (root._bokeh_timeout) === \"undefined\" || force === true) {\n    root._bokeh_timeout = Date.now() + 5000;\n    root._bokeh_failed_load = false;\n  }\n\n  var NB_LOAD_WARNING = {'data': {'text/html':\n     \"<div style='background-color: #fdd'>\\n\"+\n     \"<p>\\n\"+\n     \"BokehJS does not appear to have successfully loaded. If loading BokehJS from CDN, this \\n\"+\n     \"may be due to a slow or bad network connection. Possible fixes:\\n\"+\n     \"</p>\\n\"+\n     \"<ul>\\n\"+\n     \"<li>re-rerun `output_notebook()` to attempt to load from CDN again, or</li>\\n\"+\n     \"<li>use INLINE resources instead, as so:</li>\\n\"+\n     \"</ul>\\n\"+\n     \"<code>\\n\"+\n     \"from bokeh.resources import INLINE\\n\"+\n     \"output_notebook(resources=INLINE)\\n\"+\n     \"</code>\\n\"+\n     \"</div>\"}};\n\n  function display_loaded() {\n    var el = document.getElementById(\"1001\");\n    if (el != null) {\n      el.textContent = \"BokehJS is loading...\";\n    }\n    if (root.Bokeh !== undefined) {\n      if (el != null) {\n        el.textContent = \"BokehJS \" + root.Bokeh.version + \" successfully loaded.\";\n      }\n    } else if (Date.now() < root._bokeh_timeout) {\n      setTimeout(display_loaded, 100)\n    }\n  }\n\n\n  function run_callbacks() {\n    try {\n      root._bokeh_onload_callbacks.forEach(function(callback) {\n        if (callback != null)\n          callback();\n      });\n    } finally {\n      delete root._bokeh_onload_callbacks\n    }\n    console.debug(\"Bokeh: all callbacks have finished\");\n  }\n\n  function load_libs(css_urls, js_urls, callback) {\n    if (css_urls == null) css_urls = [];\n    if (js_urls == null) js_urls = [];\n\n    root._bokeh_onload_callbacks.push(callback);\n    if (root._bokeh_is_loading > 0) {\n      console.debug(\"Bokeh: BokehJS is being loaded, scheduling callback at\", now());\n      return null;\n    }\n    if (js_urls == null || js_urls.length === 0) {\n      run_callbacks();\n      return null;\n    }\n    console.debug(\"Bokeh: BokehJS not loaded, scheduling load and callback at\", now());\n    root._bokeh_is_loading = css_urls.length + js_urls.length;\n\n    function on_load() {\n      root._bokeh_is_loading--;\n      if (root._bokeh_is_loading === 0) {\n        console.debug(\"Bokeh: all BokehJS libraries/stylesheets loaded\");\n        run_callbacks()\n      }\n    }\n\n    function on_error() {\n      console.error(\"failed to load \" + url);\n    }\n\n    for (var i = 0; i < css_urls.length; i++) {\n      var url = css_urls[i];\n      const element = document.createElement(\"link\");\n      element.onload = on_load;\n      element.onerror = on_error;\n      element.rel = \"stylesheet\";\n      element.type = \"text/css\";\n      element.href = url;\n      console.debug(\"Bokeh: injecting link tag for BokehJS stylesheet: \", url);\n      document.body.appendChild(element);\n    }\n\n    for (var i = 0; i < js_urls.length; i++) {\n      var url = js_urls[i];\n      var element = document.createElement('script');\n      element.onload = on_load;\n      element.onerror = on_error;\n      element.async = false;\n      element.src = url;\n      console.debug(\"Bokeh: injecting script tag for BokehJS library: \", url);\n      document.head.appendChild(element);\n    }\n  };var element = document.getElementById(\"1001\");\n  if (element == null) {\n    console.error(\"Bokeh: ERROR: autoload.js configured with elementid '1001' but no matching script tag was found. \")\n    return false;\n  }\n\n  function inject_raw_css(css) {\n    const element = document.createElement(\"style\");\n    element.appendChild(document.createTextNode(css));\n    document.body.appendChild(element);\n  }\n\n  var js_urls = [\"https://cdn.pydata.org/bokeh/release/bokeh-1.3.4.min.js\", \"https://cdn.pydata.org/bokeh/release/bokeh-widgets-1.3.4.min.js\", \"https://cdn.pydata.org/bokeh/release/bokeh-tables-1.3.4.min.js\", \"https://cdn.pydata.org/bokeh/release/bokeh-gl-1.3.4.min.js\"];\n  var css_urls = [];\n\n  var inline_js = [\n    function(Bokeh) {\n      Bokeh.set_log_level(\"info\");\n    },\n    \n    function(Bokeh) {\n      \n    },\n    function(Bokeh) {} // ensure no trailing comma for IE\n  ];\n\n  function run_inline_js() {\n    \n    if ((root.Bokeh !== undefined) || (force === true)) {\n      for (var i = 0; i < inline_js.length; i++) {\n        inline_js[i].call(root, root.Bokeh);\n      }if (force === true) {\n        display_loaded();\n      }} else if (Date.now() < root._bokeh_timeout) {\n      setTimeout(run_inline_js, 100);\n    } else if (!root._bokeh_failed_load) {\n      console.log(\"Bokeh: BokehJS failed to load within specified timeout.\");\n      root._bokeh_failed_load = true;\n    } else if (force !== true) {\n      var cell = $(document.getElementById(\"1001\")).parents('.cell').data().cell;\n      cell.output_area.append_execute_result(NB_LOAD_WARNING)\n    }\n\n  }\n\n  if (root._bokeh_is_loading === 0) {\n    console.debug(\"Bokeh: BokehJS loaded, going straight to plotting\");\n    run_inline_js();\n  } else {\n    load_libs(css_urls, js_urls, function() {\n      console.debug(\"Bokeh: BokehJS plotting callback run at\", now());\n      run_inline_js();\n    });\n  }\n}(window));"
     },
     "metadata": {},
     "output_type": "display_data"
    }
   ],
   "source": [
    "import pandas as pd\n",
    "import numpy as np\n",
    "from datetime import date\n",
    "from bokeh.plotting import figure\n",
    "from bokeh.layouts import column, row\n",
    "from bokeh.models.tickers import FixedTicker\n",
    "from bokeh.models.widgets import CheckboxGroup, Slider, RangeSlider, Tabs, TableColumn, DataTable, RadioGroup,RadioButtonGroup, Dropdown,DateRangeSlider\n",
    "from bokeh.models import ColumnDataSource, DataTable, TableColumn\n",
    "from bokeh.layouts import WidgetBox\n",
    "\n",
    "\n",
    "# from bokeh.io import output_file\n",
    "from bokeh.io import output_notebook, curdoc\n",
    "from bokeh.layouts import column, row\n",
    "from bokeh.models import Button, ColumnDataSource, Slider, TextInput\n",
    "from bokeh.plotting import figure\n",
    "from bokeh.models.widgets import DateRangeSlider\n",
    "\n",
    "\n",
    "from bokeh.io import show, output_notebook, push_notebook\n",
    "from bokeh.plotting import figure\n",
    "\n",
    "from bokeh.models import CategoricalColorMapper, HoverTool, ColumnDataSource, Panel\n",
    "from bokeh.models.widgets import CheckboxGroup, Slider, RangeSlider, Tabs, TableColumn, DataTable, RadioGroup,RadioButtonGroup, Dropdown\n",
    "\n",
    "from bokeh.layouts import column, row, WidgetBox\n",
    "from bokeh.palettes import Category20_16\n",
    "\n",
    "from bokeh.application.handlers import FunctionHandler\n",
    "from bokeh.application import Application\n",
    "\n",
    "output_notebook()\n",
    "\n",
    "\n",
    "from bokeh.io import show\n",
    "from bokeh.plotting import figure\n",
    "\n",
    "\n",
    "\n",
    "\n",
    "\n",
    "\n",
    "\n"
   ]
  },
  {
   "cell_type": "code",
   "execution_count": 2,
   "metadata": {},
   "outputs": [],
   "source": [
    "#load data\n",
    "\n",
    "allData = pd.read_csv(\"C:/Users/Caleb/Desktop/Poolla Lab/Data/15min_EV_PV_homes_only.csv\") # Load all the data\n",
    "\n",
    "                          "
   ]
  },
  {
   "cell_type": "code",
   "execution_count": 3,
   "metadata": {},
   "outputs": [],
   "source": [
    "filterData = allData[[\"car1\",\"grid\",\"solar\",\"local_15min\",\"dataid\",\"state\"]] # cutting down nonessential columns for the sake of runtime\n",
    "filterData = filterData.rename(columns={\"local_15min\":\"time\"}) \n",
    "filterData[\"time\"] = pd.to_datetime(filterData[\"time\"]) # change to appropriate data type\n",
    "\n"
   ]
  },
  {
   "cell_type": "markdown",
   "metadata": {},
   "source": [
    "# Main\n"
   ]
  },
  {
   "cell_type": "code",
   "execution_count": 4,
   "metadata": {},
   "outputs": [],
   "source": [
    "\n",
    "# Grid:\n",
    "# eGauge data present measuring power drawn from the electrical grid\n",
    "\n",
    "def modify_doc(doc):\n",
    "\n",
    "    #all_min_date = filterData.groupby('dataid').agg(min)[\"time\"]\n",
    "    #all_max_date = filterData.groupby('dataid').agg(max)[\"time\"]\n",
    "\n",
    "    dummy_daterange = ['2019-05-01', '2019-08-20']\n",
    "    dummy_granularity = '15 Minutes'\n",
    "    dummy_house = 5679\n",
    "\n",
    "    def plot3_data(daterange = dummy_daterange, xaxis = dummy_granularity):\n",
    "\n",
    "        houseData = filterData[filterData['state'] == 'NY'][['time','grid']]\n",
    "        # Resample doesn't like multiple time zones, note to find a way around this\n",
    "        houseData = houseData.sort_values('time', ascending = True)\n",
    "        houseData.index = houseData['time']\n",
    "        houseData = houseData.loc[daterange[0]:daterange[1],:] # cut to the days requested\n",
    "       \n",
    "        if xaxis == '15 Minutes':\n",
    "            houseData = houseData.drop(columns=\"time\")\n",
    "            houseData['grid'] = houseData['grid'] * 60 * 15 / 3600 # kWh\n",
    "\n",
    "        if xaxis == 'Hour':\n",
    "            houseData['grid'] = houseData['grid'] * 60 * 15 / 3600 # kWh\n",
    "            houseData = houseData.resample('1h').sum()\n",
    "\n",
    "        if xaxis == 'Day':\n",
    "            houseData['grid'] = houseData['grid'] * 60 * 15 / 3600 # kWh\n",
    "            houseData = houseData.resample('1d').sum()\n",
    "\n",
    "        if xaxis == 'Week':\n",
    "            houseData['grid'] = houseData['grid'] * 60 * 15 / 3600 # kWh\n",
    "            houseData = houseData.resample('1w').sum()\n",
    "\n",
    "        if xaxis == 'Month':\n",
    "            houseData['grid'] = houseData['grid']* 60 * 15 / 3600 # kWh\n",
    "            houseData = houseData.resample('1m').sum()\n",
    "\n",
    "        houseData['time'] = houseData.index\n",
    "        netLoad = houseData.groupby(houseData['time'])['grid'].sum() # L - G\n",
    "        # note that all of the houses do not have data taken for the same range\n",
    "        # This affects the summation excluding some houses at different points in time\n",
    "        price = netLoad > 0\n",
    "        price = pd.DataFrame(data = price)\n",
    "        \n",
    "        return ColumnDataSource(price)\n",
    "\n",
    "    def plot4_data(daterange = dummy_daterange, house = dummy_house):\n",
    "        sortedData = filterData[filterData['state'] == 'NY'][['time','grid','solar','dataid']].sort_values('time', ascending = True)\n",
    "        sortedData.index = sortedData['time']\n",
    "        sortedData = sortedData.loc[daterange[0]:daterange[1],:]\n",
    "        sortedData['grid'] = sortedData['grid'] * 60 * 15 / 3600 # kWh\n",
    "        sortedData['solar'] = sortedData['solar'] * 60 * 15 / 3600 # kWh\n",
    "\n",
    "        houseData = sortedData[sortedData['dataid'] == house]\n",
    "\n",
    "        L = houseData['grid'] + houseData['solar'] # (L-S) + S = L\n",
    "        S =  houseData['solar'] # S\n",
    "        Sbar = ( S < L ) * S + ( S > L ) * L # Sbar\n",
    "        solarAtDiscount = S - Sbar\n",
    "\n",
    "        Load = L.sum() # blue plot no share\n",
    "        SelfSolarSum = Sbar.sum() # green plot no share\n",
    "        DiscountSum = solarAtDiscount.sum() # red plot no share\n",
    "\n",
    "        sumL = L.cumsum()\n",
    "        sumS = S.cumsum()\n",
    "        Shat = ( sumS < sumL ) * S + ( sumS > sumL ) * (S * sumL/sumS)\n",
    "\n",
    "        Load = L.sum() # blue plot share\n",
    "        CommunitySolarSum = Shat.sum() # green plot share\n",
    "        DiscountShareSum = (S*Shat).sum() # red plot share\n",
    "\n",
    "        d = {'blue no share': Load, 'green no share': SelfSolarSum, 'red no share': DiscountSum,\n",
    "                'blue share': Load, 'green share': CommunitySolarSum, 'red share': DiscountShareSum}\n",
    "\n",
    "        #d = {'Sharing $': [eqCost], 'Normal $': [cost],'Saved':[cost-eqCost]}\n",
    "        df = pd.DataFrame([[Load,SelfSolarSum,DiscountSum,Load,CommunitySolarSum,DiscountShareSum]],\n",
    "                columns = ['blue no share','green no share','red no share',\n",
    "                     'blue share', 'green share','red share'])\n",
    "\n",
    "        print(df)\n",
    "        print(ColumnDataSource(df))\n",
    "        return ColumnDataSource(df)\n",
    "\n",
    "    def plot4_plot(src):  #plot the new plot 4\n",
    "        plot4 = figure(title='Plot 1: To share or not to share',\n",
    "                       x_axis_label='Without Sharing',\n",
    "                       y_axis_label='Energy Consumed [kWh]')\n",
    "\n",
    "        plot4.plot_width = 600\n",
    "        plot4.plot_height = 400\n",
    "        plot4.vbar(x='columns', top='data', width=1, source=src)\n",
    "\n",
    "        return plot4\n",
    "        \n",
    "\n",
    "    def plot3_plot(src):\n",
    "        plot3 = figure(title = 'Equilibrium Price',x_axis_type=\"datetime\", x_axis_label=\"Time\",\n",
    "            y_axis_label=\"Price\")\n",
    "        plot3.line('time','grid',source = src)\n",
    "        plot3.yaxis.ticker = [0,1]\n",
    "        plot3.yaxis.major_label_overrides = {0: 'Pi_nm', 1: 'Pi_g'}\n",
    "\n",
    "        return plot3\n",
    "\n",
    "\n",
    "    def update(attr, old, new):\n",
    "        \n",
    "        daterange_to_plot = ['2019-05-01', '2019-08-20']\n",
    "\n",
    "        daterange_raw = list(date_range_slider.value_as_datetime)\n",
    "        daterange_to_plot = [daterange_raw[0].strftime(\"%Y-%m-%d\"), daterange_raw[1].strftime(\"%Y-%m-%d\")]\n",
    "        \n",
    "        home_id_to_plot = int(home_id_selector.value)\n",
    "\n",
    "        granularity_to_plot = granularity_1.labels[granularity_1.active]\n",
    "        \n",
    "        new_src3 = plot3_data(daterange = daterange_to_plot, xaxis = granularity_to_plot)\n",
    "        new_src4 = plot4_data(daterange = daterange_to_plot, house = home_id_to_plot)\n",
    "\n",
    "        src3.data.update(new_src3.data)\n",
    "        src4.data.update(new_src4.data)\n",
    "    \n",
    "    ## Granularity Button\n",
    "    granularity_1 = RadioGroup(\n",
    "        labels=[\"15 Minutes\", \"Hour\", \"Day\", \"Week\", \"Month\"], active=0,\n",
    "            background ='paleturquoise',\n",
    "            max_width = 100)\n",
    "    granularity_1.on_change('active',\n",
    "                            update)\n",
    "    \n",
    "    ## Daterange Slider Button\n",
    "    date_range_slider = DateRangeSlider(title=\"Date Range: \", \n",
    "            start=date(2019, 5, 1), end=date(2019, 8, 20),value=(date(2019, 5, 1),\n",
    "                date(2019, 8, 20)), step=1, callback_policy = 'mouseup',max_width = 250)\n",
    "    date_range_slider.on_change(\"value_throttled\", update)\n",
    "\n",
    "    ## Home Selector\n",
    "    home_ids_available = np.unique(filterData[filterData['state'] == 'NY']['dataid'])\n",
    "\n",
    "    home_ids_available = list(map(str, home_ids_available))\n",
    "    home_id_selector = Dropdown(label=\"Home ID\", button_type=\"warning\", menu=home_ids_available, value=\"27\", max_width = 350)\n",
    "    home_id_selector.on_change('value',update)\n",
    "\n",
    "\n",
    "    ## Initialize src and plot\n",
    "    src3 = plot3_data(['2019-05-01', '2019-08-20'],'15 Minutes')\n",
    "    src4 = plot4_data(['2019-05-01', '2019-08-20'],5679)\n",
    "\n",
    "    plot3 = plot3_plot(src3)\n",
    "    plot4 = plot4_plot(src4)\n",
    "\n",
    "    ## Table\n",
    "   # columns = [\n",
    "   #         TableColumn(field='Sharing $', title='Sharing Cost'),\n",
    "   #         TableColumn(field='Normal $', title='Regular Cost'),\n",
    "   #         TableColumn(field='Saved',title='Amount Saved')\n",
    "   #         ]\n",
    "   # data_table = DataTable(source=src4,columns = columns,width=350, height=280)\n",
    "\n",
    "\n",
    "    # Create a layout\n",
    "    controls = WidgetBox(column(row(granularity_1,date_range_slider),\n",
    "        home_id_selector), sizing_mode = 'scale_both')\n",
    "\n",
    "    layout = row(controls,plot4)\n",
    "\n",
    "    # Make a tab with the layout\n",
    "    tab = Panel(child=layout, title='Market Analysis')\n",
    "    tabs = Tabs(tabs=[tab])\n",
    "    doc.add_root(tabs)\n",
    "\n",
    "\n",
    "\n",
    "\n",
    "    controls = WidgetBox(granularity_1,home_id_selector, date_range_slider)  #data_type_selector)\n",
    "\n",
    "\n",
    "    \n",
    "\n",
    "    \n",
    "    \n",
    "    \n",
    "#     plot2=plot2_plot(src)    \n",
    "#     show(plot2)\n",
    "\n",
    "\n",
    "#stuff to make the app run in this notebook (not part of final .py)\n",
    "handler = FunctionHandler(modify_doc)\n",
    "app = Application(handler)"
   ]
  },
  {
   "cell_type": "code",
   "execution_count": 9,
   "metadata": {},
   "outputs": [],
   "source": [
    "def modify_doc(doc): #this whole modify_doc container is used to make app run in this notebook(not part of final .py)\n",
    "\n",
    "    # dummy data that will be replaced by button values once we get those implemented (right now only granulaity button is implemented)\n",
    "\n",
    "    all_min_date = filterData.groupby('dataid').agg(min)[\"time\"]\n",
    "    all_max_date = filterData.groupby('dataid').agg(max)[\"time\"]\n",
    "\n",
    "    dummy_daterange = ['2019-05-01', '2019-08-20']\n",
    "    dummy_home_id = 27\n",
    "    dummy_data_type = 'car1'\n",
    "    dummy_granularity = '15 Minutes'\n",
    "\n",
    "    def plot1_data(house, daterange=dummy_daterange, data=dummy_data_type, xaxis=dummy_granularity):\n",
    "\n",
    "        # house is an integer number ex. 27\n",
    "        # daterange is an array with 2 strings, start date and end date. ex. ['2019-05-01','2019-08-09']\n",
    "        # weekdays is an ordered list 0-6 of integers ex. [1,4,6] (these are the days we want to exclude)\n",
    "        # data is a string ex. 'car1'\n",
    "        # xaxis is also a string ex. 'hour'\n",
    "\n",
    "        houseData = filterData[filterData['dataid'] == house].sort_values('time', ascending=True)[[data, 'time']]\n",
    "        # that cuts the house, sorts by ascending time, and pulls out only the type of data that was requested\n",
    "        houseData.index = houseData['time']  # reindex by the datetime\n",
    "        houseData = houseData.loc[daterange[0]:daterange[1], :]  # cut to the days requested\n",
    "\n",
    "        # Now we get into the xaxis user options #\n",
    "        if xaxis == '15 Minutes':\n",
    "            houseData = houseData.drop(columns=\"time\")\n",
    "\n",
    "        if xaxis == 'Hour':\n",
    "            houseData = houseData.resample('1h').mean()\n",
    "\n",
    "        if xaxis == 'Day':\n",
    "            houseData = houseData.resample('1d').mean()\n",
    "\n",
    "        if xaxis == 'Week':\n",
    "            houseData = houseData.resample('1w').mean()\n",
    "\n",
    "        if xaxis == 'Month':\n",
    "            houseData = houseData.resample('1m').mean()\n",
    "        # if none of these, 15 Minutes is implied and passed through\n",
    "        return ColumnDataSource(houseData)\n",
    "\n",
    "    ####for now we will ignore the same method for plot #2\n",
    "\n",
    "    #     def plot2_data(house,daterange,weekdays,data,xaxis):\n",
    "    #         houseData = filterData[filterData['dataid'] == house].sort_values('time', ascending = True)[[data,'time']]\n",
    "    #         # that cuts the house, sorts by ascending time, and pulls out only the type of data that was requested\n",
    "    #         houseData.index = houseData['time'] # reindex by the datetime\n",
    "    #         houseData = houseData.loc[daterange[0]:daterange[1],:] # cut to the days requested\n",
    "\n",
    "    #         for i in weekdays:\n",
    "    #             houseData = houseData[houseData['time'].dt.dayofweek != i] # cut out days we dont want\n",
    "\n",
    "    #         if xaxis == 'avgday':\n",
    "    #             houseData = houseData.resample('1d').sum() ####chjange to mean\n",
    "    #             houseData['time'] = houseData.index\n",
    "    #             houseData = houseData.groupby(houseData['time'].dt.dayofweek)[data].mean()\n",
    "    #             houseData.index = ['Monday','Tuesday','Wednesday','Thursday','Friday','Saturday','Sunday']\n",
    "\n",
    "    #         if xaxis == 'avghour':\n",
    "    #             houseData = houseData.resample('1h').mean()\n",
    "    #             houseData['time'] = houseData.index\n",
    "    #             houseData = houseData.groupby(houseData['time'].dt.hour)[data].mean() # Does not account for UTC change!\n",
    "\n",
    "    #         return houseData #ColumnDataSource(houseData)\n",
    "\n",
    "    # now we need to set up our plot axis\n",
    "\n",
    "    ##########method2: create plots\n",
    "\n",
    "    def plot1_plot(src):\n",
    "        # create the plot every time  a change occurs\n",
    "        plot1 = figure(title=\"PLOT 1\", x_axis_type=\"datetime\", x_axis_label=\"Local Time\",\n",
    "                       y_axis_label=\"Consumption [kW]\")\n",
    "        plot1.line('time', \"grid\", source=src, )  # simple line plot   #data_type_available[data_type_selector.active]\n",
    "\n",
    "        return plot1  # plot object type\n",
    "\n",
    "    #     def plot2_plot(src):\n",
    "    #         plot2 = figure(title=\"PLOT 2\", x_axis_type=\"datetime\",x_axis_label=\"Local Time\", y_axis_label=\"Consumption [kW]\")\n",
    "    #         plot2.line('time','grid',source=src,)\n",
    "    #         return plot2\n",
    "\n",
    "    #########Method3: Update App\n",
    "\n",
    "    def update(attr, old, new):  # still a little unsure how the update function gets values passed in implicitly\n",
    "        # these values to be replaced with button/user inputs\n",
    "        \n",
    "        home_id_to_plot = int(home_id_selector.value)\n",
    "        print(attr,old,new)\n",
    "        \n",
    "#         if home_id_selector.value == new:\n",
    "            \n",
    "#             daterange_to_plot = [all_min_date[home_id_to_plot].strftime(\"%Y-%m-%d\"), all_max_date[home_id_to_plot].strftime(\"%Y-%m-%d\")]\n",
    "#             date_range_slider.start=all_min_date[home_id_to_plot]\n",
    "#             date_range_slider.end=all_max_date[home_id_to_plot]\n",
    "#             date_range_slider.value=(all_min_date[home_id_to_plot],all_max_date[home_id_to_plot])\n",
    "\n",
    "#             print(\"if 1 truth\")\n",
    "#         else:\n",
    "        daterange_raw = list(date_range_slider.value_as_datetime)\n",
    "        daterange_to_plot = [daterange_raw[0].strftime(\"%Y-%m-%d\"), daterange_raw[1].strftime(\"%Y-%m-%d\")]\n",
    "#         print(\"falsyy\")\n",
    "\n",
    "        date_range_slider.update(start=all_min_date[home_id_to_plot], end=all_max_date[home_id_to_plot],value=(all_min_date[home_id_to_plot],all_max_date[home_id_to_plot]))\n",
    "\n",
    "        \n",
    "#         print(\"after:\",new)\n",
    "        \n",
    "        \n",
    "#         print(attr,old,new)\n",
    "\n",
    "#         daterange_to_plot=list(string_date1,string_date2)\n",
    "\n",
    "#         daterange_to_plot=dummy_daterange\n",
    "\n",
    "        data_type_to_plot = \"grid\"                     #data_type_available[data_type_selector.active]\n",
    "\n",
    "\n",
    "        # only working button call so far\n",
    "        granularity_to_plot = granularity_1.labels[granularity_1.active]\n",
    "\n",
    "        #         granularity_to_plot= [granularity_1.labels[i] for i in granularity_1.active]\n",
    "        print(\"before data create\")\n",
    "        # create a new data source\n",
    "        new_src1 = plot1_data(home_id_to_plot, daterange=daterange_to_plot, data=data_type_to_plot,\n",
    "                              xaxis=granularity_to_plot)\n",
    "        print(\"before data update\")\n",
    "        # push new data  to the source data the rest of the app is usig for plot1\n",
    "        src1.data.update(new_src1.data)\n",
    "        print(\"updated data\")\n",
    "        \n",
    "#     def new_home(attr,old,new):\n",
    "#         return\n",
    "    \n",
    "    \n",
    "    ############# Add widgets\n",
    "\n",
    "    # only the granularity implemented so far\n",
    "    granularity_1 = RadioGroup(\n",
    "        labels=[\"15 Minutes\", \"Hour\", \"Day\", \"Week\", \"Month\"], active=0)\n",
    "\n",
    "    granularity_1.on_change('active',\n",
    "                            update)  # not sure exactly how this works but runs update on the change of the button and passes through the value of the button\n",
    "\n",
    "    home_ids_available = np.unique(filterData['dataid'])\n",
    "    home_ids_available= list(map(str, home_ids_available))\n",
    "    home_id_selector = Dropdown(label=\"Home ID to Plot\", button_type=\"warning\", menu=home_ids_available,value=\"27\")\n",
    "\n",
    "    home_id_selector.on_change('value',update)\n",
    "\n",
    "\n",
    "\n",
    "    date_range_slider = DateRangeSlider(title=\"Date Range: \", start=date(2019,5,1), end=date(2019, 8, 20), value=(date(2019,5,1), date(2019, 8, 20)), step=1)\n",
    "    date_range_slider.on_change(\"value\", update)\n",
    "\n",
    "    # data_type_selector = RadioButtonGroup(labels=[\"Net Home Consumption\",\"Solar Generation\",\"EV Consumption\"],active=0)\n",
    "\n",
    "    # data_type_selector.on_change('active',update)\n",
    "    # data_type_available=[\"grid\",\"solar\",\"car1\"]\n",
    "\n",
    "\n",
    "\n",
    "    ############ Initialize opening plot and data\n",
    "    src1 = plot1_data(int(home_ids_available[0]), ['2019-05-01', '2019-08-20'], 'grid', '15 Minutes')  # start with a data range we know is correct\n",
    "    plot1 = plot1_plot(src1)\n",
    "\n",
    "    ##### Formatting of the app screen\n",
    "\n",
    "    # Put controls in a single element (add more later to format)\n",
    "    controls = WidgetBox(granularity_1,home_id_selector, date_range_slider)  #data_type_selector)\n",
    "\n",
    "    # Create a row layout\n",
    "    layout = row(controls, plot1)\n",
    "    \n",
    "    tab = Panel(child=layout, title='First Tab')\n",
    "    tabs = Tabs(tabs=[tab])\n",
    "    doc.add_root(tabs)\n",
    "    \n",
    "    \n",
    "    \n",
    "#     plot2=plot2_plot(src)    \n",
    "#     show(plot2)\n",
    "\n",
    "\n",
    "#stuff to make the app run in this notebook (not part of final .py)\n",
    "handler = FunctionHandler(modify_doc)\n",
    "app = Application(handler)\n",
    "\n"
   ]
  },
  {
   "cell_type": "code",
   "execution_count": 5,
   "metadata": {},
   "outputs": [
    {
     "data": {
      "application/vnd.bokehjs_exec.v0+json": "",
      "text/html": [
       "\n",
       "<script src=\"http://localhost:63336/autoload.js?bokeh-autoload-element=1002&bokeh-absolute-url=http://localhost:63336&resources=none\" id=\"1002\"></script>"
      ]
     },
     "metadata": {
      "application/vnd.bokehjs_exec.v0+json": {
       "server_id": "ea50162589b84f8f9b75d26311410674"
      }
     },
     "output_type": "display_data"
    },
    {
     "name": "stderr",
     "output_type": "stream",
     "text": [
      "ERROR:bokeh.core.validation.check:E-1001 (BAD_COLUMN_NAME): Glyph refers to nonexistent column name. This could either be due to a misspelling or typo, or due to an expected column being missing. : key \"top\" value \"data\", key \"x\" value \"columns\" [renderer: GlyphRenderer(id='1087', ...)]\n"
     ]
    },
    {
     "name": "stdout",
     "output_type": "stream",
     "text": [
      "   blue no share  green no share  red no share  blue share  green share  \\\n",
      "0      2712.4835       934.14075      1226.138   2712.4835  2160.185003   \n",
      "\n",
      "     red share  \n",
      "0  1412.021076  \n",
      "ColumnDataSource(id='1007', ...)\n"
     ]
    }
   ],
   "source": [
    "show(app, 'localhost:8889')\n",
    "\n"
   ]
  },
  {
   "cell_type": "code",
   "execution_count": 7,
   "metadata": {},
   "outputs": [],
   "source": [
    "\n",
    "\n",
    "########method1: create data source for plots\n",
    "\n",
    "# dummy data that will be replaced by button values once we get those implemented (right now only granulaity button is implemented)\n",
    "dummy_daterange = ['2019-05-01', '2019-08-20']\n",
    "dummy_home_id = 27\n",
    "dummy_data_type = 'grid'\n",
    "dummy_granularity = '15 Minutes'\n",
    "\n",
    "\n",
    "def plot1_data(house,daterange = dummy_daterange,data= dummy_data_type,xaxis = dummy_granularity):\n",
    "\n",
    "    # house is an integer number ex. 27\n",
    "    # daterange is an array with 2 strings, start date and end date. ex. ['2019-05-01','2019-08-09']\n",
    "    # weekdays is an ordered list 0-6 of integers ex. [1,4,6] (these are the days we want to exclude)\n",
    "    # data is a string ex. 'car1'\n",
    "    # xaxis is also a string ex. 'hour'\n",
    "\n",
    "    houseData = filterData[filterData['dataid'] == house].sort_values('time', ascending=True)[[data, 'time']]\n",
    "    # that cuts the house, sorts by ascending time, and pulls out only the type of data that was requested\n",
    "    houseData.index = houseData['time']  # reindex by the datetime\n",
    "    houseData = houseData.loc[daterange[0]:daterange[1], :]  # cut to the days requested\n",
    "\n",
    "    # Now we get into the xaxis user options #\n",
    "    if xaxis == '15 Minutes':\n",
    "        houseData = houseData.drop(columns=\"time\")\n",
    "\n",
    "    if xaxis == 'Hour':\n",
    "        houseData = houseData.resample('1h').mean()\n",
    "       \n",
    "\n",
    "    if xaxis == 'Day':\n",
    "        houseData = houseData.resample('1d').mean()\n",
    "       \n",
    "\n",
    "    if xaxis == 'Week':\n",
    "        houseData = houseData.resample('1w').mean()\n",
    "        \n",
    "\n",
    "    if xaxis == 'Month':\n",
    "        houseData = houseData.resample('1m').mean()\n",
    "        \n",
    "    # if none of these, 5 Minutes is implied and passed through\n",
    "    return houseData\n"
   ]
  },
  {
   "cell_type": "code",
   "execution_count": 8,
   "metadata": {},
   "outputs": [
    {
     "ename": "TypeError",
     "evalue": "'<' not supported between instances of 'datetime.datetime' and 'str'",
     "output_type": "error",
     "traceback": [
      "\u001b[1;31m---------------------------------------------------------------------------\u001b[0m",
      "\u001b[1;31mKeyError\u001b[0m                                  Traceback (most recent call last)",
      "\u001b[1;32m~\\Anaconda3\\lib\\site-packages\\pandas\\core\\indexes\\base.py\u001b[0m in \u001b[0;36mget_loc\u001b[1;34m(self, key, method, tolerance)\u001b[0m\n\u001b[0;32m   2896\u001b[0m             \u001b[1;32mtry\u001b[0m\u001b[1;33m:\u001b[0m\u001b[1;33m\u001b[0m\u001b[1;33m\u001b[0m\u001b[0m\n\u001b[1;32m-> 2897\u001b[1;33m                 \u001b[1;32mreturn\u001b[0m \u001b[0mself\u001b[0m\u001b[1;33m.\u001b[0m\u001b[0m_engine\u001b[0m\u001b[1;33m.\u001b[0m\u001b[0mget_loc\u001b[0m\u001b[1;33m(\u001b[0m\u001b[0mkey\u001b[0m\u001b[1;33m)\u001b[0m\u001b[1;33m\u001b[0m\u001b[1;33m\u001b[0m\u001b[0m\n\u001b[0m\u001b[0;32m   2898\u001b[0m             \u001b[1;32mexcept\u001b[0m \u001b[0mKeyError\u001b[0m\u001b[1;33m:\u001b[0m\u001b[1;33m\u001b[0m\u001b[1;33m\u001b[0m\u001b[0m\n",
      "\u001b[1;32mpandas\\_libs\\index.pyx\u001b[0m in \u001b[0;36mpandas._libs.index.IndexEngine.get_loc\u001b[1;34m()\u001b[0m\n",
      "\u001b[1;32mpandas\\_libs\\index.pyx\u001b[0m in \u001b[0;36mpandas._libs.index.IndexEngine.get_loc\u001b[1;34m()\u001b[0m\n",
      "\u001b[1;32mpandas\\_libs\\hashtable_class_helper.pxi\u001b[0m in \u001b[0;36mpandas._libs.hashtable.PyObjectHashTable.get_item\u001b[1;34m()\u001b[0m\n",
      "\u001b[1;32mpandas\\_libs\\hashtable_class_helper.pxi\u001b[0m in \u001b[0;36mpandas._libs.hashtable.PyObjectHashTable.get_item\u001b[1;34m()\u001b[0m\n",
      "\u001b[1;31mKeyError\u001b[0m: '2019-05-01'",
      "\nDuring handling of the above exception, another exception occurred:\n",
      "\u001b[1;31mKeyError\u001b[0m                                  Traceback (most recent call last)",
      "\u001b[1;32m~\\Anaconda3\\lib\\site-packages\\pandas\\core\\indexes\\base.py\u001b[0m in \u001b[0;36mget_slice_bound\u001b[1;34m(self, label, side, kind)\u001b[0m\n\u001b[0;32m   5163\u001b[0m         \u001b[1;32mtry\u001b[0m\u001b[1;33m:\u001b[0m\u001b[1;33m\u001b[0m\u001b[1;33m\u001b[0m\u001b[0m\n\u001b[1;32m-> 5164\u001b[1;33m             \u001b[0mslc\u001b[0m \u001b[1;33m=\u001b[0m \u001b[0mself\u001b[0m\u001b[1;33m.\u001b[0m\u001b[0mget_loc\u001b[0m\u001b[1;33m(\u001b[0m\u001b[0mlabel\u001b[0m\u001b[1;33m)\u001b[0m\u001b[1;33m\u001b[0m\u001b[1;33m\u001b[0m\u001b[0m\n\u001b[0m\u001b[0;32m   5165\u001b[0m         \u001b[1;32mexcept\u001b[0m \u001b[0mKeyError\u001b[0m \u001b[1;32mas\u001b[0m \u001b[0merr\u001b[0m\u001b[1;33m:\u001b[0m\u001b[1;33m\u001b[0m\u001b[1;33m\u001b[0m\u001b[0m\n",
      "\u001b[1;32m~\\Anaconda3\\lib\\site-packages\\pandas\\core\\indexes\\base.py\u001b[0m in \u001b[0;36mget_loc\u001b[1;34m(self, key, method, tolerance)\u001b[0m\n\u001b[0;32m   2898\u001b[0m             \u001b[1;32mexcept\u001b[0m \u001b[0mKeyError\u001b[0m\u001b[1;33m:\u001b[0m\u001b[1;33m\u001b[0m\u001b[1;33m\u001b[0m\u001b[0m\n\u001b[1;32m-> 2899\u001b[1;33m                 \u001b[1;32mreturn\u001b[0m \u001b[0mself\u001b[0m\u001b[1;33m.\u001b[0m\u001b[0m_engine\u001b[0m\u001b[1;33m.\u001b[0m\u001b[0mget_loc\u001b[0m\u001b[1;33m(\u001b[0m\u001b[0mself\u001b[0m\u001b[1;33m.\u001b[0m\u001b[0m_maybe_cast_indexer\u001b[0m\u001b[1;33m(\u001b[0m\u001b[0mkey\u001b[0m\u001b[1;33m)\u001b[0m\u001b[1;33m)\u001b[0m\u001b[1;33m\u001b[0m\u001b[1;33m\u001b[0m\u001b[0m\n\u001b[0m\u001b[0;32m   2900\u001b[0m         \u001b[0mindexer\u001b[0m \u001b[1;33m=\u001b[0m \u001b[0mself\u001b[0m\u001b[1;33m.\u001b[0m\u001b[0mget_indexer\u001b[0m\u001b[1;33m(\u001b[0m\u001b[1;33m[\u001b[0m\u001b[0mkey\u001b[0m\u001b[1;33m]\u001b[0m\u001b[1;33m,\u001b[0m \u001b[0mmethod\u001b[0m\u001b[1;33m=\u001b[0m\u001b[0mmethod\u001b[0m\u001b[1;33m,\u001b[0m \u001b[0mtolerance\u001b[0m\u001b[1;33m=\u001b[0m\u001b[0mtolerance\u001b[0m\u001b[1;33m)\u001b[0m\u001b[1;33m\u001b[0m\u001b[1;33m\u001b[0m\u001b[0m\n",
      "\u001b[1;32mpandas\\_libs\\index.pyx\u001b[0m in \u001b[0;36mpandas._libs.index.IndexEngine.get_loc\u001b[1;34m()\u001b[0m\n",
      "\u001b[1;32mpandas\\_libs\\index.pyx\u001b[0m in \u001b[0;36mpandas._libs.index.IndexEngine.get_loc\u001b[1;34m()\u001b[0m\n",
      "\u001b[1;32mpandas\\_libs\\hashtable_class_helper.pxi\u001b[0m in \u001b[0;36mpandas._libs.hashtable.PyObjectHashTable.get_item\u001b[1;34m()\u001b[0m\n",
      "\u001b[1;32mpandas\\_libs\\hashtable_class_helper.pxi\u001b[0m in \u001b[0;36mpandas._libs.hashtable.PyObjectHashTable.get_item\u001b[1;34m()\u001b[0m\n",
      "\u001b[1;31mKeyError\u001b[0m: '2019-05-01'",
      "\nDuring handling of the above exception, another exception occurred:\n",
      "\u001b[1;31mTypeError\u001b[0m                                 Traceback (most recent call last)",
      "\u001b[1;32m<ipython-input-8-3733ca17d21c>\u001b[0m in \u001b[0;36m<module>\u001b[1;34m\u001b[0m\n\u001b[1;32m----> 1\u001b[1;33m \u001b[0mplot1_data\u001b[0m\u001b[1;33m(\u001b[0m\u001b[1;36m6139\u001b[0m\u001b[1;33m,\u001b[0m\u001b[0mdummy_daterange\u001b[0m\u001b[1;33m,\u001b[0m\u001b[1;34m\"grid\"\u001b[0m\u001b[1;33m,\u001b[0m\u001b[1;34m\"Month\"\u001b[0m\u001b[1;33m)\u001b[0m\u001b[1;33m\u001b[0m\u001b[1;33m\u001b[0m\u001b[0m\n\u001b[0m",
      "\u001b[1;32m<ipython-input-7-5585dec043bf>\u001b[0m in \u001b[0;36mplot1_data\u001b[1;34m(house, daterange, data, xaxis)\u001b[0m\n\u001b[0;32m     19\u001b[0m     \u001b[1;31m# that cuts the house, sorts by ascending time, and pulls out only the type of data that was requested\u001b[0m\u001b[1;33m\u001b[0m\u001b[1;33m\u001b[0m\u001b[1;33m\u001b[0m\u001b[0m\n\u001b[0;32m     20\u001b[0m     \u001b[0mhouseData\u001b[0m\u001b[1;33m.\u001b[0m\u001b[0mindex\u001b[0m \u001b[1;33m=\u001b[0m \u001b[0mhouseData\u001b[0m\u001b[1;33m[\u001b[0m\u001b[1;34m'time'\u001b[0m\u001b[1;33m]\u001b[0m  \u001b[1;31m# reindex by the datetime\u001b[0m\u001b[1;33m\u001b[0m\u001b[1;33m\u001b[0m\u001b[0m\n\u001b[1;32m---> 21\u001b[1;33m     \u001b[0mhouseData\u001b[0m \u001b[1;33m=\u001b[0m \u001b[0mhouseData\u001b[0m\u001b[1;33m.\u001b[0m\u001b[0mloc\u001b[0m\u001b[1;33m[\u001b[0m\u001b[0mdaterange\u001b[0m\u001b[1;33m[\u001b[0m\u001b[1;36m0\u001b[0m\u001b[1;33m]\u001b[0m\u001b[1;33m:\u001b[0m\u001b[0mdaterange\u001b[0m\u001b[1;33m[\u001b[0m\u001b[1;36m1\u001b[0m\u001b[1;33m]\u001b[0m\u001b[1;33m,\u001b[0m \u001b[1;33m:\u001b[0m\u001b[1;33m]\u001b[0m  \u001b[1;31m# cut to the days requested\u001b[0m\u001b[1;33m\u001b[0m\u001b[1;33m\u001b[0m\u001b[0m\n\u001b[0m\u001b[0;32m     22\u001b[0m \u001b[1;33m\u001b[0m\u001b[0m\n\u001b[0;32m     23\u001b[0m     \u001b[1;31m# Now we get into the xaxis user options #\u001b[0m\u001b[1;33m\u001b[0m\u001b[1;33m\u001b[0m\u001b[1;33m\u001b[0m\u001b[0m\n",
      "\u001b[1;32m~\\Anaconda3\\lib\\site-packages\\pandas\\core\\indexing.py\u001b[0m in \u001b[0;36m__getitem__\u001b[1;34m(self, key)\u001b[0m\n\u001b[0;32m   1416\u001b[0m                 \u001b[1;32mexcept\u001b[0m \u001b[1;33m(\u001b[0m\u001b[0mKeyError\u001b[0m\u001b[1;33m,\u001b[0m \u001b[0mIndexError\u001b[0m\u001b[1;33m,\u001b[0m \u001b[0mAttributeError\u001b[0m\u001b[1;33m)\u001b[0m\u001b[1;33m:\u001b[0m\u001b[1;33m\u001b[0m\u001b[1;33m\u001b[0m\u001b[0m\n\u001b[0;32m   1417\u001b[0m                     \u001b[1;32mpass\u001b[0m\u001b[1;33m\u001b[0m\u001b[1;33m\u001b[0m\u001b[0m\n\u001b[1;32m-> 1418\u001b[1;33m             \u001b[1;32mreturn\u001b[0m \u001b[0mself\u001b[0m\u001b[1;33m.\u001b[0m\u001b[0m_getitem_tuple\u001b[0m\u001b[1;33m(\u001b[0m\u001b[0mkey\u001b[0m\u001b[1;33m)\u001b[0m\u001b[1;33m\u001b[0m\u001b[1;33m\u001b[0m\u001b[0m\n\u001b[0m\u001b[0;32m   1419\u001b[0m         \u001b[1;32melse\u001b[0m\u001b[1;33m:\u001b[0m\u001b[1;33m\u001b[0m\u001b[1;33m\u001b[0m\u001b[0m\n\u001b[0;32m   1420\u001b[0m             \u001b[1;31m# we by definition only have the 0th axis\u001b[0m\u001b[1;33m\u001b[0m\u001b[1;33m\u001b[0m\u001b[1;33m\u001b[0m\u001b[0m\n",
      "\u001b[1;32m~\\Anaconda3\\lib\\site-packages\\pandas\\core\\indexing.py\u001b[0m in \u001b[0;36m_getitem_tuple\u001b[1;34m(self, tup)\u001b[0m\n\u001b[0;32m    820\u001b[0m                 \u001b[1;32mcontinue\u001b[0m\u001b[1;33m\u001b[0m\u001b[1;33m\u001b[0m\u001b[0m\n\u001b[0;32m    821\u001b[0m \u001b[1;33m\u001b[0m\u001b[0m\n\u001b[1;32m--> 822\u001b[1;33m             \u001b[0mretval\u001b[0m \u001b[1;33m=\u001b[0m \u001b[0mgetattr\u001b[0m\u001b[1;33m(\u001b[0m\u001b[0mretval\u001b[0m\u001b[1;33m,\u001b[0m \u001b[0mself\u001b[0m\u001b[1;33m.\u001b[0m\u001b[0mname\u001b[0m\u001b[1;33m)\u001b[0m\u001b[1;33m.\u001b[0m\u001b[0m_getitem_axis\u001b[0m\u001b[1;33m(\u001b[0m\u001b[0mkey\u001b[0m\u001b[1;33m,\u001b[0m \u001b[0maxis\u001b[0m\u001b[1;33m=\u001b[0m\u001b[0mi\u001b[0m\u001b[1;33m)\u001b[0m\u001b[1;33m\u001b[0m\u001b[1;33m\u001b[0m\u001b[0m\n\u001b[0m\u001b[0;32m    823\u001b[0m \u001b[1;33m\u001b[0m\u001b[0m\n\u001b[0;32m    824\u001b[0m         \u001b[1;32mreturn\u001b[0m \u001b[0mretval\u001b[0m\u001b[1;33m\u001b[0m\u001b[1;33m\u001b[0m\u001b[0m\n",
      "\u001b[1;32m~\\Anaconda3\\lib\\site-packages\\pandas\\core\\indexing.py\u001b[0m in \u001b[0;36m_getitem_axis\u001b[1;34m(self, key, axis)\u001b[0m\n\u001b[0;32m   1795\u001b[0m         \u001b[1;32mif\u001b[0m \u001b[0misinstance\u001b[0m\u001b[1;33m(\u001b[0m\u001b[0mkey\u001b[0m\u001b[1;33m,\u001b[0m \u001b[0mslice\u001b[0m\u001b[1;33m)\u001b[0m\u001b[1;33m:\u001b[0m\u001b[1;33m\u001b[0m\u001b[1;33m\u001b[0m\u001b[0m\n\u001b[0;32m   1796\u001b[0m             \u001b[0mself\u001b[0m\u001b[1;33m.\u001b[0m\u001b[0m_validate_key\u001b[0m\u001b[1;33m(\u001b[0m\u001b[0mkey\u001b[0m\u001b[1;33m,\u001b[0m \u001b[0maxis\u001b[0m\u001b[1;33m)\u001b[0m\u001b[1;33m\u001b[0m\u001b[1;33m\u001b[0m\u001b[0m\n\u001b[1;32m-> 1797\u001b[1;33m             \u001b[1;32mreturn\u001b[0m \u001b[0mself\u001b[0m\u001b[1;33m.\u001b[0m\u001b[0m_get_slice_axis\u001b[0m\u001b[1;33m(\u001b[0m\u001b[0mkey\u001b[0m\u001b[1;33m,\u001b[0m \u001b[0maxis\u001b[0m\u001b[1;33m=\u001b[0m\u001b[0maxis\u001b[0m\u001b[1;33m)\u001b[0m\u001b[1;33m\u001b[0m\u001b[1;33m\u001b[0m\u001b[0m\n\u001b[0m\u001b[0;32m   1798\u001b[0m         \u001b[1;32melif\u001b[0m \u001b[0mcom\u001b[0m\u001b[1;33m.\u001b[0m\u001b[0mis_bool_indexer\u001b[0m\u001b[1;33m(\u001b[0m\u001b[0mkey\u001b[0m\u001b[1;33m)\u001b[0m\u001b[1;33m:\u001b[0m\u001b[1;33m\u001b[0m\u001b[1;33m\u001b[0m\u001b[0m\n\u001b[0;32m   1799\u001b[0m             \u001b[1;32mreturn\u001b[0m \u001b[0mself\u001b[0m\u001b[1;33m.\u001b[0m\u001b[0m_getbool_axis\u001b[0m\u001b[1;33m(\u001b[0m\u001b[0mkey\u001b[0m\u001b[1;33m,\u001b[0m \u001b[0maxis\u001b[0m\u001b[1;33m=\u001b[0m\u001b[0maxis\u001b[0m\u001b[1;33m)\u001b[0m\u001b[1;33m\u001b[0m\u001b[1;33m\u001b[0m\u001b[0m\n",
      "\u001b[1;32m~\\Anaconda3\\lib\\site-packages\\pandas\\core\\indexing.py\u001b[0m in \u001b[0;36m_get_slice_axis\u001b[1;34m(self, slice_obj, axis)\u001b[0m\n\u001b[0;32m   1452\u001b[0m         \u001b[0mlabels\u001b[0m \u001b[1;33m=\u001b[0m \u001b[0mobj\u001b[0m\u001b[1;33m.\u001b[0m\u001b[0m_get_axis\u001b[0m\u001b[1;33m(\u001b[0m\u001b[0maxis\u001b[0m\u001b[1;33m)\u001b[0m\u001b[1;33m\u001b[0m\u001b[1;33m\u001b[0m\u001b[0m\n\u001b[0;32m   1453\u001b[0m         indexer = labels.slice_indexer(\n\u001b[1;32m-> 1454\u001b[1;33m             \u001b[0mslice_obj\u001b[0m\u001b[1;33m.\u001b[0m\u001b[0mstart\u001b[0m\u001b[1;33m,\u001b[0m \u001b[0mslice_obj\u001b[0m\u001b[1;33m.\u001b[0m\u001b[0mstop\u001b[0m\u001b[1;33m,\u001b[0m \u001b[0mslice_obj\u001b[0m\u001b[1;33m.\u001b[0m\u001b[0mstep\u001b[0m\u001b[1;33m,\u001b[0m \u001b[0mkind\u001b[0m\u001b[1;33m=\u001b[0m\u001b[0mself\u001b[0m\u001b[1;33m.\u001b[0m\u001b[0mname\u001b[0m\u001b[1;33m\u001b[0m\u001b[1;33m\u001b[0m\u001b[0m\n\u001b[0m\u001b[0;32m   1455\u001b[0m         )\n\u001b[0;32m   1456\u001b[0m \u001b[1;33m\u001b[0m\u001b[0m\n",
      "\u001b[1;32m~\\Anaconda3\\lib\\site-packages\\pandas\\core\\indexes\\base.py\u001b[0m in \u001b[0;36mslice_indexer\u001b[1;34m(self, start, end, step, kind)\u001b[0m\n\u001b[0;32m   5032\u001b[0m         \u001b[0mslice\u001b[0m\u001b[1;33m(\u001b[0m\u001b[1;36m1\u001b[0m\u001b[1;33m,\u001b[0m \u001b[1;36m3\u001b[0m\u001b[1;33m)\u001b[0m\u001b[1;33m\u001b[0m\u001b[1;33m\u001b[0m\u001b[0m\n\u001b[0;32m   5033\u001b[0m         \"\"\"\n\u001b[1;32m-> 5034\u001b[1;33m         \u001b[0mstart_slice\u001b[0m\u001b[1;33m,\u001b[0m \u001b[0mend_slice\u001b[0m \u001b[1;33m=\u001b[0m \u001b[0mself\u001b[0m\u001b[1;33m.\u001b[0m\u001b[0mslice_locs\u001b[0m\u001b[1;33m(\u001b[0m\u001b[0mstart\u001b[0m\u001b[1;33m,\u001b[0m \u001b[0mend\u001b[0m\u001b[1;33m,\u001b[0m \u001b[0mstep\u001b[0m\u001b[1;33m=\u001b[0m\u001b[0mstep\u001b[0m\u001b[1;33m,\u001b[0m \u001b[0mkind\u001b[0m\u001b[1;33m=\u001b[0m\u001b[0mkind\u001b[0m\u001b[1;33m)\u001b[0m\u001b[1;33m\u001b[0m\u001b[1;33m\u001b[0m\u001b[0m\n\u001b[0m\u001b[0;32m   5035\u001b[0m \u001b[1;33m\u001b[0m\u001b[0m\n\u001b[0;32m   5036\u001b[0m         \u001b[1;31m# return a slice\u001b[0m\u001b[1;33m\u001b[0m\u001b[1;33m\u001b[0m\u001b[1;33m\u001b[0m\u001b[0m\n",
      "\u001b[1;32m~\\Anaconda3\\lib\\site-packages\\pandas\\core\\indexes\\base.py\u001b[0m in \u001b[0;36mslice_locs\u001b[1;34m(self, start, end, step, kind)\u001b[0m\n\u001b[0;32m   5246\u001b[0m         \u001b[0mstart_slice\u001b[0m \u001b[1;33m=\u001b[0m \u001b[1;32mNone\u001b[0m\u001b[1;33m\u001b[0m\u001b[1;33m\u001b[0m\u001b[0m\n\u001b[0;32m   5247\u001b[0m         \u001b[1;32mif\u001b[0m \u001b[0mstart\u001b[0m \u001b[1;32mis\u001b[0m \u001b[1;32mnot\u001b[0m \u001b[1;32mNone\u001b[0m\u001b[1;33m:\u001b[0m\u001b[1;33m\u001b[0m\u001b[1;33m\u001b[0m\u001b[0m\n\u001b[1;32m-> 5248\u001b[1;33m             \u001b[0mstart_slice\u001b[0m \u001b[1;33m=\u001b[0m \u001b[0mself\u001b[0m\u001b[1;33m.\u001b[0m\u001b[0mget_slice_bound\u001b[0m\u001b[1;33m(\u001b[0m\u001b[0mstart\u001b[0m\u001b[1;33m,\u001b[0m \u001b[1;34m\"left\"\u001b[0m\u001b[1;33m,\u001b[0m \u001b[0mkind\u001b[0m\u001b[1;33m)\u001b[0m\u001b[1;33m\u001b[0m\u001b[1;33m\u001b[0m\u001b[0m\n\u001b[0m\u001b[0;32m   5249\u001b[0m         \u001b[1;32mif\u001b[0m \u001b[0mstart_slice\u001b[0m \u001b[1;32mis\u001b[0m \u001b[1;32mNone\u001b[0m\u001b[1;33m:\u001b[0m\u001b[1;33m\u001b[0m\u001b[1;33m\u001b[0m\u001b[0m\n\u001b[0;32m   5250\u001b[0m             \u001b[0mstart_slice\u001b[0m \u001b[1;33m=\u001b[0m \u001b[1;36m0\u001b[0m\u001b[1;33m\u001b[0m\u001b[1;33m\u001b[0m\u001b[0m\n",
      "\u001b[1;32m~\\Anaconda3\\lib\\site-packages\\pandas\\core\\indexes\\base.py\u001b[0m in \u001b[0;36mget_slice_bound\u001b[1;34m(self, label, side, kind)\u001b[0m\n\u001b[0;32m   5165\u001b[0m         \u001b[1;32mexcept\u001b[0m \u001b[0mKeyError\u001b[0m \u001b[1;32mas\u001b[0m \u001b[0merr\u001b[0m\u001b[1;33m:\u001b[0m\u001b[1;33m\u001b[0m\u001b[1;33m\u001b[0m\u001b[0m\n\u001b[0;32m   5166\u001b[0m             \u001b[1;32mtry\u001b[0m\u001b[1;33m:\u001b[0m\u001b[1;33m\u001b[0m\u001b[1;33m\u001b[0m\u001b[0m\n\u001b[1;32m-> 5167\u001b[1;33m                 \u001b[1;32mreturn\u001b[0m \u001b[0mself\u001b[0m\u001b[1;33m.\u001b[0m\u001b[0m_searchsorted_monotonic\u001b[0m\u001b[1;33m(\u001b[0m\u001b[0mlabel\u001b[0m\u001b[1;33m,\u001b[0m \u001b[0mside\u001b[0m\u001b[1;33m)\u001b[0m\u001b[1;33m\u001b[0m\u001b[1;33m\u001b[0m\u001b[0m\n\u001b[0m\u001b[0;32m   5168\u001b[0m             \u001b[1;32mexcept\u001b[0m \u001b[0mValueError\u001b[0m\u001b[1;33m:\u001b[0m\u001b[1;33m\u001b[0m\u001b[1;33m\u001b[0m\u001b[0m\n\u001b[0;32m   5169\u001b[0m                 \u001b[1;31m# raise the original KeyError\u001b[0m\u001b[1;33m\u001b[0m\u001b[1;33m\u001b[0m\u001b[1;33m\u001b[0m\u001b[0m\n",
      "\u001b[1;32m~\\Anaconda3\\lib\\site-packages\\pandas\\core\\indexes\\base.py\u001b[0m in \u001b[0;36m_searchsorted_monotonic\u001b[1;34m(self, label, side)\u001b[0m\n\u001b[0;32m   5116\u001b[0m     \u001b[1;32mdef\u001b[0m \u001b[0m_searchsorted_monotonic\u001b[0m\u001b[1;33m(\u001b[0m\u001b[0mself\u001b[0m\u001b[1;33m,\u001b[0m \u001b[0mlabel\u001b[0m\u001b[1;33m,\u001b[0m \u001b[0mside\u001b[0m\u001b[1;33m=\u001b[0m\u001b[1;34m\"left\"\u001b[0m\u001b[1;33m)\u001b[0m\u001b[1;33m:\u001b[0m\u001b[1;33m\u001b[0m\u001b[1;33m\u001b[0m\u001b[0m\n\u001b[0;32m   5117\u001b[0m         \u001b[1;32mif\u001b[0m \u001b[0mself\u001b[0m\u001b[1;33m.\u001b[0m\u001b[0mis_monotonic_increasing\u001b[0m\u001b[1;33m:\u001b[0m\u001b[1;33m\u001b[0m\u001b[1;33m\u001b[0m\u001b[0m\n\u001b[1;32m-> 5118\u001b[1;33m             \u001b[1;32mreturn\u001b[0m \u001b[0mself\u001b[0m\u001b[1;33m.\u001b[0m\u001b[0msearchsorted\u001b[0m\u001b[1;33m(\u001b[0m\u001b[0mlabel\u001b[0m\u001b[1;33m,\u001b[0m \u001b[0mside\u001b[0m\u001b[1;33m=\u001b[0m\u001b[0mside\u001b[0m\u001b[1;33m)\u001b[0m\u001b[1;33m\u001b[0m\u001b[1;33m\u001b[0m\u001b[0m\n\u001b[0m\u001b[0;32m   5119\u001b[0m         \u001b[1;32melif\u001b[0m \u001b[0mself\u001b[0m\u001b[1;33m.\u001b[0m\u001b[0mis_monotonic_decreasing\u001b[0m\u001b[1;33m:\u001b[0m\u001b[1;33m\u001b[0m\u001b[1;33m\u001b[0m\u001b[0m\n\u001b[0;32m   5120\u001b[0m             \u001b[1;31m# np.searchsorted expects ascending sort order, have to reverse\u001b[0m\u001b[1;33m\u001b[0m\u001b[1;33m\u001b[0m\u001b[1;33m\u001b[0m\u001b[0m\n",
      "\u001b[1;32m~\\Anaconda3\\lib\\site-packages\\pandas\\core\\base.py\u001b[0m in \u001b[0;36msearchsorted\u001b[1;34m(self, value, side, sorter)\u001b[0m\n\u001b[0;32m   1616\u001b[0m     \u001b[1;33m@\u001b[0m\u001b[0mAppender\u001b[0m\u001b[1;33m(\u001b[0m\u001b[0m_shared_docs\u001b[0m\u001b[1;33m[\u001b[0m\u001b[1;34m\"searchsorted\"\u001b[0m\u001b[1;33m]\u001b[0m\u001b[1;33m)\u001b[0m\u001b[1;33m\u001b[0m\u001b[1;33m\u001b[0m\u001b[0m\n\u001b[0;32m   1617\u001b[0m     \u001b[1;32mdef\u001b[0m \u001b[0msearchsorted\u001b[0m\u001b[1;33m(\u001b[0m\u001b[0mself\u001b[0m\u001b[1;33m,\u001b[0m \u001b[0mvalue\u001b[0m\u001b[1;33m,\u001b[0m \u001b[0mside\u001b[0m\u001b[1;33m=\u001b[0m\u001b[1;34m\"left\"\u001b[0m\u001b[1;33m,\u001b[0m \u001b[0msorter\u001b[0m\u001b[1;33m=\u001b[0m\u001b[1;32mNone\u001b[0m\u001b[1;33m)\u001b[0m\u001b[1;33m:\u001b[0m\u001b[1;33m\u001b[0m\u001b[1;33m\u001b[0m\u001b[0m\n\u001b[1;32m-> 1618\u001b[1;33m         \u001b[1;32mreturn\u001b[0m \u001b[0malgorithms\u001b[0m\u001b[1;33m.\u001b[0m\u001b[0msearchsorted\u001b[0m\u001b[1;33m(\u001b[0m\u001b[0mself\u001b[0m\u001b[1;33m.\u001b[0m\u001b[0m_values\u001b[0m\u001b[1;33m,\u001b[0m \u001b[0mvalue\u001b[0m\u001b[1;33m,\u001b[0m \u001b[0mside\u001b[0m\u001b[1;33m=\u001b[0m\u001b[0mside\u001b[0m\u001b[1;33m,\u001b[0m \u001b[0msorter\u001b[0m\u001b[1;33m=\u001b[0m\u001b[0msorter\u001b[0m\u001b[1;33m)\u001b[0m\u001b[1;33m\u001b[0m\u001b[1;33m\u001b[0m\u001b[0m\n\u001b[0m\u001b[0;32m   1619\u001b[0m \u001b[1;33m\u001b[0m\u001b[0m\n\u001b[0;32m   1620\u001b[0m     \u001b[1;32mdef\u001b[0m \u001b[0mdrop_duplicates\u001b[0m\u001b[1;33m(\u001b[0m\u001b[0mself\u001b[0m\u001b[1;33m,\u001b[0m \u001b[0mkeep\u001b[0m\u001b[1;33m=\u001b[0m\u001b[1;34m\"first\"\u001b[0m\u001b[1;33m,\u001b[0m \u001b[0minplace\u001b[0m\u001b[1;33m=\u001b[0m\u001b[1;32mFalse\u001b[0m\u001b[1;33m)\u001b[0m\u001b[1;33m:\u001b[0m\u001b[1;33m\u001b[0m\u001b[1;33m\u001b[0m\u001b[0m\n",
      "\u001b[1;32m~\\Anaconda3\\lib\\site-packages\\pandas\\core\\algorithms.py\u001b[0m in \u001b[0;36msearchsorted\u001b[1;34m(arr, value, side, sorter)\u001b[0m\n\u001b[0;32m   1885\u001b[0m         \u001b[0mvalue\u001b[0m \u001b[1;33m=\u001b[0m \u001b[0mvalue_ser\u001b[0m\u001b[1;33m[\u001b[0m\u001b[1;36m0\u001b[0m\u001b[1;33m]\u001b[0m \u001b[1;32mif\u001b[0m \u001b[0mis_scalar\u001b[0m\u001b[1;33m(\u001b[0m\u001b[0mvalue\u001b[0m\u001b[1;33m)\u001b[0m \u001b[1;32melse\u001b[0m \u001b[0mvalue_ser\u001b[0m\u001b[1;33m\u001b[0m\u001b[1;33m\u001b[0m\u001b[0m\n\u001b[0;32m   1886\u001b[0m \u001b[1;33m\u001b[0m\u001b[0m\n\u001b[1;32m-> 1887\u001b[1;33m     \u001b[0mresult\u001b[0m \u001b[1;33m=\u001b[0m \u001b[0marr\u001b[0m\u001b[1;33m.\u001b[0m\u001b[0msearchsorted\u001b[0m\u001b[1;33m(\u001b[0m\u001b[0mvalue\u001b[0m\u001b[1;33m,\u001b[0m \u001b[0mside\u001b[0m\u001b[1;33m=\u001b[0m\u001b[0mside\u001b[0m\u001b[1;33m,\u001b[0m \u001b[0msorter\u001b[0m\u001b[1;33m=\u001b[0m\u001b[0msorter\u001b[0m\u001b[1;33m)\u001b[0m\u001b[1;33m\u001b[0m\u001b[1;33m\u001b[0m\u001b[0m\n\u001b[0m\u001b[0;32m   1888\u001b[0m     \u001b[1;32mreturn\u001b[0m \u001b[0mresult\u001b[0m\u001b[1;33m\u001b[0m\u001b[1;33m\u001b[0m\u001b[0m\n\u001b[0;32m   1889\u001b[0m \u001b[1;33m\u001b[0m\u001b[0m\n",
      "\u001b[1;31mTypeError\u001b[0m: '<' not supported between instances of 'datetime.datetime' and 'str'"
     ]
    }
   ],
   "source": [
    "plot1_data(6139,dummy_daterange,\"grid\",\"Month\")"
   ]
  },
  {
   "cell_type": "code",
   "execution_count": 9,
   "metadata": {},
   "outputs": [
    {
     "name": "stdout",
     "output_type": "stream",
     "text": [
      "[datetime.datetime(2018, 1, 1, 0, 0, tzinfo=tzoffset(None, -21600)), datetime.datetime(2018, 12, 31, 23, 45, tzinfo=tzoffset(None, -21600))]\n"
     ]
    }
   ],
   "source": [
    "# x=type(zz2[\"car1\"][269474])\n",
    "id=661\n",
    "zz=filterData[filterData[\"dataid\"]==id]\n",
    "zz2=zz[zz[\"solar\"]==0]\n",
    "\n",
    "# min_t=zz[\"time\"].sort(ascending=True)[0]\n",
    "\n",
    "\n",
    "zzz1=filterData[filterData['dataid'] == id].sort_values('time', ascending=False)\n",
    "\n",
    "max1=zzz1['time'].values[0]\n",
    "\n",
    "zzz2=filterData[filterData['dataid'] == id].sort_values('time', ascending=True)\n",
    "min2=zzz2['time'].values[0]\n",
    "\n",
    "print([min2,max1])\n",
    "\n",
    "# print(zzz1,zzz2)"
   ]
  },
  {
   "cell_type": "code",
   "execution_count": 10,
   "metadata": {},
   "outputs": [
    {
     "data": {
      "text/plain": [
       "<bound method Series.unique of 0         <class 'datetime.datetime'>\n",
       "1         <class 'datetime.datetime'>\n",
       "2         <class 'datetime.datetime'>\n",
       "3         <class 'datetime.datetime'>\n",
       "4         <class 'datetime.datetime'>\n",
       "                     ...             \n",
       "384224    <class 'datetime.datetime'>\n",
       "384225    <class 'datetime.datetime'>\n",
       "384226    <class 'datetime.datetime'>\n",
       "384227    <class 'datetime.datetime'>\n",
       "384228    <class 'datetime.datetime'>\n",
       "Name: time, Length: 384229, dtype: object>"
      ]
     },
     "execution_count": 10,
     "metadata": {},
     "output_type": "execute_result"
    }
   ],
   "source": [
    "filterData[\"time\"].apply(type).unique"
   ]
  },
  {
   "cell_type": "code",
   "execution_count": 91,
   "metadata": {},
   "outputs": [],
   "source": [
    "all_min_date=filterData.groupby('dataid').agg(min)[\"time\"]\n",
    "\n",
    "\n",
    "all_max_date=filterData.groupby('dataid').agg(max)[\"time\"]"
   ]
  },
  {
   "cell_type": "code",
   "execution_count": 92,
   "metadata": {},
   "outputs": [
    {
     "data": {
      "text/plain": [
       "datetime.datetime(2019, 5, 1, 0, 0, tzinfo=tzoffset(None, -18000))"
      ]
     },
     "execution_count": 92,
     "metadata": {},
     "output_type": "execute_result"
    }
   ],
   "source": [
    "allmin[3000]\n"
   ]
  },
  {
   "cell_type": "code",
   "execution_count": 93,
   "metadata": {},
   "outputs": [
    {
     "data": {
      "text/plain": [
       "dataid\n",
       "27      2019-10-31 23:45:00-05:00\n",
       "661     2018-12-31 23:45:00-06:00\n",
       "1222    2019-10-31 23:45:00-05:00\n",
       "1642    2018-12-31 23:45:00-06:00\n",
       "2335    2018-12-31 23:45:00-06:00\n",
       "3000    2019-10-31 23:45:00-05:00\n",
       "4373    2018-12-31 23:45:00-06:00\n",
       "4767    2018-12-31 04:45:00-06:00\n",
       "5679    2019-10-31 23:45:00-05:00\n",
       "6139    2018-12-31 23:45:00-06:00\n",
       "7719    2018-12-31 23:45:00-06:00\n",
       "8156    2018-12-31 23:45:00-06:00\n",
       "9278    2018-12-31 23:45:00-06:00\n",
       "Name: time, dtype: object"
      ]
     },
     "execution_count": 93,
     "metadata": {},
     "output_type": "execute_result"
    }
   ],
   "source": [
    "allmax"
   ]
  },
  {
   "cell_type": "code",
   "execution_count": 94,
   "metadata": {},
   "outputs": [
    {
     "ename": "NameError",
     "evalue": "name 'testData' is not defined",
     "output_type": "error",
     "traceback": [
      "\u001b[1;31m---------------------------------------------------------------------------\u001b[0m",
      "\u001b[1;31mNameError\u001b[0m                                 Traceback (most recent call last)",
      "\u001b[1;32m<ipython-input-94-6fd91903d21b>\u001b[0m in \u001b[0;36m<module>\u001b[1;34m\u001b[0m\n\u001b[1;32m----> 1\u001b[1;33m \u001b[0mtestData\u001b[0m\u001b[1;33m.\u001b[0m\u001b[0mresample\u001b[0m\u001b[1;33m(\u001b[0m\u001b[1;34m'1w'\u001b[0m\u001b[1;33m)\u001b[0m\u001b[1;33m.\u001b[0m\u001b[0msum\u001b[0m\u001b[1;33m(\u001b[0m\u001b[1;33m)\u001b[0m\u001b[1;33m\u001b[0m\u001b[1;33m\u001b[0m\u001b[0m\n\u001b[0m",
      "\u001b[1;31mNameError\u001b[0m: name 'testData' is not defined"
     ]
    }
   ],
   "source": [
    "testData.resample('1w').sum()"
   ]
  },
  {
   "cell_type": "code",
   "execution_count": 95,
   "metadata": {},
   "outputs": [
    {
     "data": {
      "text/plain": [
       "[27, 661, 1222, 1642, 2335, 3000, 4373, 4767, 5679, 6139, 7719, 8156, 9278]"
      ]
     },
     "execution_count": 95,
     "metadata": {},
     "output_type": "execute_result"
    }
   ],
   "source": [
    "list(np.unique(filterData['dataid'].values))\n"
   ]
  },
  {
   "cell_type": "code",
   "execution_count": 96,
   "metadata": {},
   "outputs": [
    {
     "name": "stdout",
     "output_type": "stream",
     "text": [
      "[  27  661 1222 1642 2335 3000 4373 4767 5679 6139 7719 8156 9278]\n",
      "['27', '661', '1222', '1642', '2335', '3000', '4373', '4767', '5679', '6139', '7719', '8156', '9278']\n"
     ]
    }
   ],
   "source": [
    "xx=np.unique(filterData['dataid'])\n",
    "xxx=list(map(str, xx))\n",
    "print(xx)\n",
    "print(xxx)"
   ]
  },
  {
   "cell_type": "code",
   "execution_count": 97,
   "metadata": {},
   "outputs": [
    {
     "data": {
      "text/html": [
       "\n",
       "\n",
       "\n",
       "\n",
       "\n",
       "\n",
       "  <div class=\"bk-root\" id=\"49347519-dbba-4223-804f-f6c687979401\" data-root-id=\"5109\"></div>\n"
      ]
     },
     "metadata": {},
     "output_type": "display_data"
    },
    {
     "data": {
      "application/javascript": [
       "(function(root) {\n",
       "  function embed_document(root) {\n",
       "    \n",
       "  var docs_json = {\"ccdfd41f-8545-46ea-ab82-971cef6ea45a\":{\"roots\":{\"references\":[{\"attributes\":{\"button_type\":\"warning\",\"callback\":null,\"icon\":null,\"label\":\"Home ID to Plot\",\"menu\":[\"27\",\"661\",\"1222\",\"1642\",\"2335\",\"3000\",\"4373\",\"4767\",\"5679\",\"6139\",\"7719\",\"8156\",\"9278\"],\"value\":\"25\"},\"id\":\"5109\",\"type\":\"Dropdown\"}],\"root_ids\":[\"5109\"]},\"title\":\"Bokeh Application\",\"version\":\"1.3.4\"}};\n",
       "  var render_items = [{\"docid\":\"ccdfd41f-8545-46ea-ab82-971cef6ea45a\",\"roots\":{\"5109\":\"49347519-dbba-4223-804f-f6c687979401\"}}];\n",
       "  root.Bokeh.embed.embed_items_notebook(docs_json, render_items);\n",
       "\n",
       "  }\n",
       "  if (root.Bokeh !== undefined) {\n",
       "    embed_document(root);\n",
       "  } else {\n",
       "    var attempts = 0;\n",
       "    var timer = setInterval(function(root) {\n",
       "      if (root.Bokeh !== undefined) {\n",
       "        embed_document(root);\n",
       "        clearInterval(timer);\n",
       "      }\n",
       "      attempts++;\n",
       "      if (attempts > 100) {\n",
       "        console.log(\"Bokeh: ERROR: Unable to run BokehJS code because BokehJS library is missing\");\n",
       "        clearInterval(timer);\n",
       "      }\n",
       "    }, 10, root)\n",
       "  }\n",
       "})(window);"
      ],
      "application/vnd.bokehjs_exec.v0+json": ""
     },
     "metadata": {
      "application/vnd.bokehjs_exec.v0+json": {
       "id": "5109"
      }
     },
     "output_type": "display_data"
    },
    {
     "name": "stdout",
     "output_type": "stream",
     "text": [
      "25\n"
     ]
    }
   ],
   "source": [
    "    \n",
    "    \n",
    "    home_ids_available = np.unique(filterData['dataid'])\n",
    "    home_ids_available= list(map(str, home_ids_available))\n",
    "    home_id_selector = Dropdown(label=\"Home ID to Plot\", button_type=\"warning\", menu=home_ids_available, value=\"25\")\n",
    "\n",
    "    show(home_id_selector)\n",
    "    print(int(home_id_selector.value))"
   ]
  },
  {
   "cell_type": "code",
   "execution_count": 98,
   "metadata": {},
   "outputs": [],
   "source": [
    "from bokeh.models.widgets import RangeSlider,DateSlider\n",
    "from datetime import date"
   ]
  },
  {
   "cell_type": "code",
   "execution_count": 99,
   "metadata": {},
   "outputs": [
    {
     "data": {
      "text/html": [
       "\n",
       "\n",
       "\n",
       "\n",
       "\n",
       "\n",
       "  <div class=\"bk-root\" id=\"553557b4-ab13-40b3-9565-cdf1cd5e361b\" data-root-id=\"5110\"></div>\n"
      ]
     },
     "metadata": {},
     "output_type": "display_data"
    },
    {
     "data": {
      "application/javascript": [
       "(function(root) {\n",
       "  function embed_document(root) {\n",
       "    \n",
       "  var docs_json = {\"0be23841-ca91-4fb2-954d-a9c30b47daf9\":{\"roots\":{\"references\":[{\"attributes\":{\"callback\":null,\"end\":1587340800000.0,\"start\":1483228800000.0,\"title\":\"Date Range:\",\"value\":1504742400000.0},\"id\":\"5110\",\"type\":\"DateSlider\"}],\"root_ids\":[\"5110\"]},\"title\":\"Bokeh Application\",\"version\":\"1.3.4\"}};\n",
       "  var render_items = [{\"docid\":\"0be23841-ca91-4fb2-954d-a9c30b47daf9\",\"roots\":{\"5110\":\"553557b4-ab13-40b3-9565-cdf1cd5e361b\"}}];\n",
       "  root.Bokeh.embed.embed_items_notebook(docs_json, render_items);\n",
       "\n",
       "  }\n",
       "  if (root.Bokeh !== undefined) {\n",
       "    embed_document(root);\n",
       "  } else {\n",
       "    var attempts = 0;\n",
       "    var timer = setInterval(function(root) {\n",
       "      if (root.Bokeh !== undefined) {\n",
       "        embed_document(root);\n",
       "        clearInterval(timer);\n",
       "      }\n",
       "      attempts++;\n",
       "      if (attempts > 100) {\n",
       "        console.log(\"Bokeh: ERROR: Unable to run BokehJS code because BokehJS library is missing\");\n",
       "        clearInterval(timer);\n",
       "      }\n",
       "    }, 10, root)\n",
       "  }\n",
       "})(window);"
      ],
      "application/vnd.bokehjs_exec.v0+json": ""
     },
     "metadata": {
      "application/vnd.bokehjs_exec.v0+json": {
       "id": "5110"
      }
     },
     "output_type": "display_data"
    }
   ],
   "source": [
    "slides=DateSlider(title=\"Date Range:\",start=date(2017, 1, 1), end=date.today(), value=date(2017, 9, 7), step=1)\n",
    "show(slides)"
   ]
  },
  {
   "cell_type": "code",
   "execution_count": 100,
   "metadata": {},
   "outputs": [
    {
     "data": {
      "text/html": [
       "\n",
       "\n",
       "\n",
       "\n",
       "\n",
       "\n",
       "  <div class=\"bk-root\" id=\"ece15105-9f10-405e-a18d-4104d75628d9\" data-root-id=\"5111\"></div>\n"
      ]
     },
     "metadata": {},
     "output_type": "display_data"
    },
    {
     "data": {
      "application/javascript": [
       "(function(root) {\n",
       "  function embed_document(root) {\n",
       "    \n",
       "  var docs_json = {\"0015bf56-1f16-416e-903b-732577cc11b3\":{\"roots\":{\"references\":[{\"attributes\":{\"callback\":null,\"end\":1566259200000.0,\"start\":1556668800000.0,\"title\":\"Date Range: \",\"value\":[1556668800000.0,1566259200000.0]},\"id\":\"5111\",\"type\":\"DateRangeSlider\"}],\"root_ids\":[\"5111\"]},\"title\":\"Bokeh Application\",\"version\":\"1.3.4\"}};\n",
       "  var render_items = [{\"docid\":\"0015bf56-1f16-416e-903b-732577cc11b3\",\"roots\":{\"5111\":\"ece15105-9f10-405e-a18d-4104d75628d9\"}}];\n",
       "  root.Bokeh.embed.embed_items_notebook(docs_json, render_items);\n",
       "\n",
       "  }\n",
       "  if (root.Bokeh !== undefined) {\n",
       "    embed_document(root);\n",
       "  } else {\n",
       "    var attempts = 0;\n",
       "    var timer = setInterval(function(root) {\n",
       "      if (root.Bokeh !== undefined) {\n",
       "        embed_document(root);\n",
       "        clearInterval(timer);\n",
       "      }\n",
       "      attempts++;\n",
       "      if (attempts > 100) {\n",
       "        console.log(\"Bokeh: ERROR: Unable to run BokehJS code because BokehJS library is missing\");\n",
       "        clearInterval(timer);\n",
       "      }\n",
       "    }, 10, root)\n",
       "  }\n",
       "})(window);"
      ],
      "application/vnd.bokehjs_exec.v0+json": ""
     },
     "metadata": {
      "application/vnd.bokehjs_exec.v0+json": {
       "id": "5111"
      }
     },
     "output_type": "display_data"
    }
   ],
   "source": [
    "from datetime import date\n",
    "\n",
    "from bokeh.models.widgets import DateRangeSlider\n",
    "from bokeh.layouts import layout\n",
    "\n",
    "from bokeh.io import curdoc\n",
    "\n",
    "date_range_slider = DateRangeSlider(title=\"Date Range: \", start=date(2019,5,1), end=date(2019, 8, 20), value=(date(2019,5,1), date(2019, 8, 20)), step=1)\n",
    "\n",
    "l = layout(children=[[date_range_slider]])\n",
    "curdoc().add_root(l)\n",
    "curdoc().title = \"DateRangeSlider Example\"\n",
    "\n",
    "cc=list(date_range_slider.value)\n",
    "cc2=[cc[0].strftime(\"%Y-%m-%d\"), cc[1].strftime(\"%Y-%m-%d\")]\n",
    "show(date_range_slider)"
   ]
  },
  {
   "cell_type": "code",
   "execution_count": 154,
   "metadata": {},
   "outputs": [
    {
     "data": {
      "text/html": [
       "\n",
       "\n",
       "\n",
       "\n",
       "\n",
       "\n",
       "  <div class=\"bk-root\" id=\"4b48d6ec-c62a-460e-94e5-3560a1413795\" data-root-id=\"5111\"></div>\n"
      ]
     },
     "metadata": {},
     "output_type": "display_data"
    },
    {
     "data": {
      "application/javascript": [
       "(function(root) {\n",
       "  function embed_document(root) {\n",
       "    \n",
       "  var docs_json = {\"8d6f06bc-4ff4-4f94-bb35-602fa76dcaa0\":{\"roots\":{\"references\":[{\"attributes\":{\"callback\":null,\"end\":1546299900000.0,\"start\":1514764800000.0,\"title\":\"Date Range: \",\"value\":[1514764800000.0,1546299900000.0]},\"id\":\"5111\",\"type\":\"DateRangeSlider\"}],\"root_ids\":[\"5111\"]},\"title\":\"Bokeh Application\",\"version\":\"1.3.4\"}};\n",
       "  var render_items = [{\"docid\":\"8d6f06bc-4ff4-4f94-bb35-602fa76dcaa0\",\"roots\":{\"5111\":\"4b48d6ec-c62a-460e-94e5-3560a1413795\"}}];\n",
       "  root.Bokeh.embed.embed_items_notebook(docs_json, render_items);\n",
       "\n",
       "  }\n",
       "  if (root.Bokeh !== undefined) {\n",
       "    embed_document(root);\n",
       "  } else {\n",
       "    var attempts = 0;\n",
       "    var timer = setInterval(function(root) {\n",
       "      if (root.Bokeh !== undefined) {\n",
       "        embed_document(root);\n",
       "        clearInterval(timer);\n",
       "      }\n",
       "      attempts++;\n",
       "      if (attempts > 100) {\n",
       "        console.log(\"Bokeh: ERROR: Unable to run BokehJS code because BokehJS library is missing\");\n",
       "        clearInterval(timer);\n",
       "      }\n",
       "    }, 10, root)\n",
       "  }\n",
       "})(window);"
      ],
      "application/vnd.bokehjs_exec.v0+json": ""
     },
     "metadata": {
      "application/vnd.bokehjs_exec.v0+json": {
       "id": "5111"
      }
     },
     "output_type": "display_data"
    }
   ],
   "source": [
    "home_id_to_plot=661\n",
    "\n",
    "date_range_slider.update(start=all_min_date[home_id_to_plot], end=all_max_date[home_id_to_plot],value=(all_min_date[home_id_to_plot],all_max_date[home_id_to_plot]))\n",
    "\n",
    "show(date_range_slider)\n"
   ]
  },
  {
   "cell_type": "code",
   "execution_count": 107,
   "metadata": {},
   "outputs": [
    {
     "data": {
      "text/plain": [
       "dataid\n",
       "27      2019-05-01 00:00:00-05:00\n",
       "661     2018-01-01 00:00:00-06:00\n",
       "1222    2019-05-01 00:00:00-05:00\n",
       "1642    2018-01-01 00:00:00-06:00\n",
       "2335    2018-01-01 00:00:00-06:00\n",
       "3000    2019-05-01 00:00:00-05:00\n",
       "4373    2018-01-01 00:00:00-06:00\n",
       "4767    2018-01-01 00:00:00-06:00\n",
       "5679    2019-05-01 00:00:00-05:00\n",
       "6139    2018-01-01 00:00:00-06:00\n",
       "7719    2018-01-01 00:00:00-06:00\n",
       "8156    2018-01-01 00:00:00-06:00\n",
       "9278    2018-01-01 00:00:00-06:00\n",
       "Name: time, dtype: object"
      ]
     },
     "execution_count": 107,
     "metadata": {},
     "output_type": "execute_result"
    }
   ],
   "source": [
    "all_min_date"
   ]
  },
  {
   "cell_type": "code",
   "execution_count": 22,
   "metadata": {},
   "outputs": [],
   "source": [
    "daterange_to_plot = list(date_range_slider.value)\n",
    "daterange_to_plot = [daterange_to_plot[0].strftime(\"%Y-%m-%d\"), daterange_to_plot[1].strftime(\"%Y-%m-%d\")]\n"
   ]
  },
  {
   "cell_type": "code",
   "execution_count": 23,
   "metadata": {},
   "outputs": [
    {
     "data": {
      "text/plain": [
       "['2019-05-01', '2019-08-20']"
      ]
     },
     "execution_count": 23,
     "metadata": {},
     "output_type": "execute_result"
    }
   ],
   "source": [
    "daterange_to_plot"
   ]
  },
  {
   "cell_type": "code",
   "execution_count": 24,
   "metadata": {},
   "outputs": [],
   "source": [
    "# daterange=['2019-05-01','2019-08-20']\n",
    "daterange=list(date_range_slider.value)\n",
    "\n",
    "house=27\n",
    "data=\"grid\"\n",
    "\n",
    "houseData = filterData[filterData['dataid'] == house].sort_values('time', ascending=True)[[data, 'time']]\n",
    "# that cuts the house, sorts by ascending time, and pulls out only the type of data that was requested\n",
    "houseData.index = houseData['time']  # reindex by the datetime\n",
    "houseData = houseData.loc[daterange[0]:daterange[1], :]  # cut to the days requested\n"
   ]
  },
  {
   "cell_type": "code",
   "execution_count": 25,
   "metadata": {},
   "outputs": [
    {
     "data": {
      "text/html": [
       "<div>\n",
       "<style scoped>\n",
       "    .dataframe tbody tr th:only-of-type {\n",
       "        vertical-align: middle;\n",
       "    }\n",
       "\n",
       "    .dataframe tbody tr th {\n",
       "        vertical-align: top;\n",
       "    }\n",
       "\n",
       "    .dataframe thead th {\n",
       "        text-align: right;\n",
       "    }\n",
       "</style>\n",
       "<table border=\"1\" class=\"dataframe\">\n",
       "  <thead>\n",
       "    <tr style=\"text-align: right;\">\n",
       "      <th></th>\n",
       "      <th>grid</th>\n",
       "      <th>time</th>\n",
       "    </tr>\n",
       "    <tr>\n",
       "      <th>time</th>\n",
       "      <th></th>\n",
       "      <th></th>\n",
       "    </tr>\n",
       "  </thead>\n",
       "  <tbody>\n",
       "    <tr>\n",
       "      <td>2019-05-01 00:00:00-05:00</td>\n",
       "      <td>0.997</td>\n",
       "      <td>2019-05-01 00:00:00-05:00</td>\n",
       "    </tr>\n",
       "    <tr>\n",
       "      <td>2019-05-01 00:15:00-05:00</td>\n",
       "      <td>0.750</td>\n",
       "      <td>2019-05-01 00:15:00-05:00</td>\n",
       "    </tr>\n",
       "    <tr>\n",
       "      <td>2019-05-01 00:30:00-05:00</td>\n",
       "      <td>0.608</td>\n",
       "      <td>2019-05-01 00:30:00-05:00</td>\n",
       "    </tr>\n",
       "    <tr>\n",
       "      <td>2019-05-01 00:45:00-05:00</td>\n",
       "      <td>1.057</td>\n",
       "      <td>2019-05-01 00:45:00-05:00</td>\n",
       "    </tr>\n",
       "    <tr>\n",
       "      <td>2019-05-01 01:00:00-05:00</td>\n",
       "      <td>0.518</td>\n",
       "      <td>2019-05-01 01:00:00-05:00</td>\n",
       "    </tr>\n",
       "    <tr>\n",
       "      <td>...</td>\n",
       "      <td>...</td>\n",
       "      <td>...</td>\n",
       "    </tr>\n",
       "    <tr>\n",
       "      <td>2019-08-19 23:00:00-05:00</td>\n",
       "      <td>0.747</td>\n",
       "      <td>2019-08-19 23:00:00-05:00</td>\n",
       "    </tr>\n",
       "    <tr>\n",
       "      <td>2019-08-19 23:15:00-05:00</td>\n",
       "      <td>0.443</td>\n",
       "      <td>2019-08-19 23:15:00-05:00</td>\n",
       "    </tr>\n",
       "    <tr>\n",
       "      <td>2019-08-19 23:30:00-05:00</td>\n",
       "      <td>0.185</td>\n",
       "      <td>2019-08-19 23:30:00-05:00</td>\n",
       "    </tr>\n",
       "    <tr>\n",
       "      <td>2019-08-19 23:45:00-05:00</td>\n",
       "      <td>0.255</td>\n",
       "      <td>2019-08-19 23:45:00-05:00</td>\n",
       "    </tr>\n",
       "    <tr>\n",
       "      <td>2019-08-20 00:00:00-05:00</td>\n",
       "      <td>0.221</td>\n",
       "      <td>2019-08-20 00:00:00-05:00</td>\n",
       "    </tr>\n",
       "  </tbody>\n",
       "</table>\n",
       "<p>10656 rows × 2 columns</p>\n",
       "</div>"
      ],
      "text/plain": [
       "                            grid                       time\n",
       "time                                                       \n",
       "2019-05-01 00:00:00-05:00  0.997  2019-05-01 00:00:00-05:00\n",
       "2019-05-01 00:15:00-05:00  0.750  2019-05-01 00:15:00-05:00\n",
       "2019-05-01 00:30:00-05:00  0.608  2019-05-01 00:30:00-05:00\n",
       "2019-05-01 00:45:00-05:00  1.057  2019-05-01 00:45:00-05:00\n",
       "2019-05-01 01:00:00-05:00  0.518  2019-05-01 01:00:00-05:00\n",
       "...                          ...                        ...\n",
       "2019-08-19 23:00:00-05:00  0.747  2019-08-19 23:00:00-05:00\n",
       "2019-08-19 23:15:00-05:00  0.443  2019-08-19 23:15:00-05:00\n",
       "2019-08-19 23:30:00-05:00  0.185  2019-08-19 23:30:00-05:00\n",
       "2019-08-19 23:45:00-05:00  0.255  2019-08-19 23:45:00-05:00\n",
       "2019-08-20 00:00:00-05:00  0.221  2019-08-20 00:00:00-05:00\n",
       "\n",
       "[10656 rows x 2 columns]"
      ]
     },
     "execution_count": 25,
     "metadata": {},
     "output_type": "execute_result"
    }
   ],
   "source": [
    "houseData"
   ]
  },
  {
   "cell_type": "code",
   "execution_count": 26,
   "metadata": {},
   "outputs": [
    {
     "data": {
      "text/plain": [
       "[datetime.date(2019, 5, 1), datetime.date(2019, 8, 20)]"
      ]
     },
     "execution_count": 26,
     "metadata": {},
     "output_type": "execute_result"
    }
   ],
   "source": [
    "cc"
   ]
  },
  {
   "cell_type": "code",
   "execution_count": 27,
   "metadata": {},
   "outputs": [
    {
     "data": {
      "text/plain": [
       "'2019-5-1'"
      ]
     },
     "execution_count": 27,
     "metadata": {},
     "output_type": "execute_result"
    }
   ],
   "source": [
    "string_date=str(cc[0].year)+\"-\"+str(cc[0].month)+\"-\"+str(cc[0].day)\n",
    "string_date"
   ]
  },
  {
   "cell_type": "code",
   "execution_count": 28,
   "metadata": {},
   "outputs": [
    {
     "data": {
      "text/plain": [
       "'2019-05-01'"
      ]
     },
     "execution_count": 28,
     "metadata": {},
     "output_type": "execute_result"
    }
   ],
   "source": [
    "cc[0].strftime(\"%Y-%m-%d\")"
   ]
  },
  {
   "cell_type": "code",
   "execution_count": 49,
   "metadata": {},
   "outputs": [],
   "source": [
    "        daterange_raw = list(date_range_slider.value)\n",
    "        # daterange_to_plot = [daterange_raw[0].strftime(\"%Y-%m-%d\"), daterange_raw[1].strftime(\"%Y-%m-%d\")]\n",
    "\n",
    "        string_date1 = str(daterange_raw[0].year) + \"-\" + str(daterange_raw[0].month) + \"-\" + str(daterange_raw[0].day)\n",
    "        string_date2 = str(daterange_raw[1].year) + \"-\" + str(daterange_raw[1].month) + \"-\" + str(daterange_raw[1].day)\n",
    "        \n",
    "        daterange_to_plot=list([string_date1,string_date2])"
   ]
  },
  {
   "cell_type": "code",
   "execution_count": 52,
   "metadata": {},
   "outputs": [
    {
     "data": {
      "text/plain": [
       "list"
      ]
     },
     "execution_count": 52,
     "metadata": {},
     "output_type": "execute_result"
    }
   ],
   "source": [
    "type(daterange_to_plot)"
   ]
  },
  {
   "cell_type": "code",
   "execution_count": 51,
   "metadata": {},
   "outputs": [
    {
     "data": {
      "text/plain": [
       "list"
      ]
     },
     "execution_count": 51,
     "metadata": {},
     "output_type": "execute_result"
    }
   ],
   "source": [
    "type(['2019-05-01', '2019-08-20'])"
   ]
  },
  {
   "cell_type": "code",
   "execution_count": 53,
   "metadata": {},
   "outputs": [
    {
     "data": {
      "text/plain": [
       "False"
      ]
     },
     "execution_count": 53,
     "metadata": {},
     "output_type": "execute_result"
    }
   ],
   "source": [
    "daterange_to_plot== ['2019-05-01', '2019-08-20']"
   ]
  },
  {
   "cell_type": "code",
   "execution_count": 59,
   "metadata": {},
   "outputs": [
    {
     "data": {
      "text/plain": [
       "'2019-05-01'"
      ]
     },
     "execution_count": 59,
     "metadata": {},
     "output_type": "execute_result"
    }
   ],
   "source": [
    "\"{:%Y-%m-%d}\".format(cc[0])"
   ]
  },
  {
   "cell_type": "code",
   "execution_count": 64,
   "metadata": {},
   "outputs": [
    {
     "data": {
      "text/plain": [
       "Timestamp('1970-01-01 00:26:06.227060589')"
      ]
     },
     "execution_count": 64,
     "metadata": {},
     "output_type": "execute_result"
    }
   ],
   "source": [
    "pd.to_datetime(1566227060589)"
   ]
  },
  {
   "cell_type": "code",
   "execution_count": 66,
   "metadata": {},
   "outputs": [
    {
     "ename": "NameError",
     "evalue": "name 'datetime' is not defined",
     "output_type": "error",
     "traceback": [
      "\u001b[1;31m---------------------------------------------------------------------------\u001b[0m",
      "\u001b[1;31mNameError\u001b[0m                                 Traceback (most recent call last)",
      "\u001b[1;32m<ipython-input-66-b3c5644bc1f8>\u001b[0m in \u001b[0;36m<module>\u001b[1;34m\u001b[0m\n\u001b[1;32m----> 1\u001b[1;33m \u001b[0mdatetime\u001b[0m\u001b[1;33m(\u001b[0m\u001b[1;36m1566227060589\u001b[0m\u001b[1;33m)\u001b[0m\u001b[1;33m\u001b[0m\u001b[1;33m\u001b[0m\u001b[0m\n\u001b[0m",
      "\u001b[1;31mNameError\u001b[0m: name 'datetime' is not defined"
     ]
    }
   ],
   "source": []
  },
  {
   "cell_type": "code",
   "execution_count": 75,
   "metadata": {},
   "outputs": [
    {
     "data": {
      "text/plain": [
       "Timestamp('1970-01-01 00:25:58.115073488')"
      ]
     },
     "execution_count": 75,
     "metadata": {},
     "output_type": "execute_result"
    }
   ],
   "source": [
    "pd.to_datetime(1558115073488)"
   ]
  },
  {
   "cell_type": "code",
   "execution_count": 85,
   "metadata": {},
   "outputs": [
    {
     "data": {
      "text/plain": [
       "Timestamp('2019-05-01 00:00:00-0500', tz='tzoffset(None, -18000)')"
      ]
     },
     "execution_count": 85,
     "metadata": {},
     "output_type": "execute_result"
    }
   ],
   "source": [
    "allmin[27]"
   ]
  },
  {
   "cell_type": "code",
   "execution_count": 145,
   "metadata": {},
   "outputs": [],
   "source": [
    "date_range_slider.update(start=all_min_date[home_id_to_plot], end=all_max_date[home_id_to_plot],value=(all_min_date[home_id_to_plot],all_max_date[home_id_to_plot]))\n",
    "date_range_slider.value=(\"2017-01-01\",\"2019-01-01\")\n"
   ]
  },
  {
   "cell_type": "code",
   "execution_count": 146,
   "metadata": {},
   "outputs": [
    {
     "data": {
      "text/html": [
       "\n",
       "\n",
       "\n",
       "\n",
       "\n",
       "\n",
       "  <div class=\"bk-root\" id=\"61635a08-0a10-4fd4-a040-270444a38e1d\" data-root-id=\"5111\"></div>\n"
      ]
     },
     "metadata": {},
     "output_type": "display_data"
    },
    {
     "data": {
      "application/javascript": [
       "(function(root) {\n",
       "  function embed_document(root) {\n",
       "    \n",
       "  var docs_json = {\"98d8689a-7a53-4d85-8e6f-69e8fd2577a2\":{\"roots\":{\"references\":[{\"attributes\":{\"callback\":null,\"end\":1546299900000.0,\"start\":1514764800000.0,\"title\":\"Date Range: \",\"value\":[\"2017-01-01\",\"2019-01-01\"]},\"id\":\"5111\",\"type\":\"DateRangeSlider\"}],\"root_ids\":[\"5111\"]},\"title\":\"Bokeh Application\",\"version\":\"1.3.4\"}};\n",
       "  var render_items = [{\"docid\":\"98d8689a-7a53-4d85-8e6f-69e8fd2577a2\",\"roots\":{\"5111\":\"61635a08-0a10-4fd4-a040-270444a38e1d\"}}];\n",
       "  root.Bokeh.embed.embed_items_notebook(docs_json, render_items);\n",
       "\n",
       "  }\n",
       "  if (root.Bokeh !== undefined) {\n",
       "    embed_document(root);\n",
       "  } else {\n",
       "    var attempts = 0;\n",
       "    var timer = setInterval(function(root) {\n",
       "      if (root.Bokeh !== undefined) {\n",
       "        embed_document(root);\n",
       "        clearInterval(timer);\n",
       "      }\n",
       "      attempts++;\n",
       "      if (attempts > 100) {\n",
       "        console.log(\"Bokeh: ERROR: Unable to run BokehJS code because BokehJS library is missing\");\n",
       "        clearInterval(timer);\n",
       "      }\n",
       "    }, 10, root)\n",
       "  }\n",
       "})(window);"
      ],
      "application/vnd.bokehjs_exec.v0+json": ""
     },
     "metadata": {
      "application/vnd.bokehjs_exec.v0+json": {
       "id": "5111"
      }
     },
     "output_type": "display_data"
    }
   ],
   "source": [
    "show(date_range_slider)"
   ]
  },
  {
   "cell_type": "code",
   "execution_count": 150,
   "metadata": {},
   "outputs": [
    {
     "data": {
      "text/plain": [
       "<bound method HasProps.properties_containers of <class 'bokeh.models.widgets.sliders.DateRangeSlider'>>"
      ]
     },
     "execution_count": 150,
     "metadata": {},
     "output_type": "execute_result"
    }
   ],
   "source": [
    "date_range_slider.properties_containers"
   ]
  },
  {
   "cell_type": "code",
   "execution_count": null,
   "metadata": {},
   "outputs": [],
   "source": []
  }
 ],
 "metadata": {
  "kernelspec": {
   "display_name": "Python 3",
   "language": "python",
   "name": "python3"
  },
  "language_info": {
   "codemirror_mode": {
    "name": "ipython",
    "version": 3
   },
   "file_extension": ".py",
   "mimetype": "text/x-python",
   "name": "python",
   "nbconvert_exporter": "python",
   "pygments_lexer": "ipython3",
   "version": "3.7.4"
  }
 },
 "nbformat": 4,
 "nbformat_minor": 2
}
